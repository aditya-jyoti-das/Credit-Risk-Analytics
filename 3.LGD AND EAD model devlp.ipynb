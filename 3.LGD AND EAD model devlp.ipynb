{
 "cells": [
  {
   "cell_type": "code",
   "execution_count": 1,
   "id": "c767a891-f23c-435e-9518-c77f9f611bf3",
   "metadata": {},
   "outputs": [],
   "source": [
    "import pandas as pd\n",
    "import numpy as np\n",
    "import matplotlib.pyplot as plt\n",
    "import plotly_express as px\n",
    "import plotly.graph_objects as go\n",
    "from plotly.subplots import make_subplots\n",
    "import warnings\n",
    "from sklearn.feature_selection import f_classif\n",
    "import scipy.stats as sm\n",
    "from sklearn.model_selection import train_test_split\n",
    "from sklearn.linear_model import LogisticRegression , LinearRegression\n",
    "from sklearn.metrics import roc_auc_score,roc_curve, r2_score, mean_squared_error\n",
    "import pickle\n",
    "warnings.simplefilter('ignore')"
   ]
  },
  {
   "cell_type": "code",
   "execution_count": 2,
   "id": "dd3ddf5e-c5c6-464e-83f6-99fd0de44af2",
   "metadata": {},
   "outputs": [],
   "source": [
    "loan_data_preprocessed_backup=pd.read_csv('loan_data_2007_2014_preprocessed.csv')"
   ]
  },
  {
   "cell_type": "code",
   "execution_count": 3,
   "id": "a81d4213-0941-4fff-b1a3-2832ad0b1eac",
   "metadata": {},
   "outputs": [],
   "source": [
    "loan_data_preprocessed=loan_data_preprocessed_backup.copy()"
   ]
  },
  {
   "cell_type": "code",
   "execution_count": 4,
   "id": "baa04645-3c4b-4d1b-b611-d4f587a6bcf6",
   "metadata": {},
   "outputs": [
    {
     "data": {
      "text/plain": [
       "(466285, 209)"
      ]
     },
     "execution_count": 4,
     "metadata": {},
     "output_type": "execute_result"
    }
   ],
   "source": [
    "loan_data_preprocessed.shape"
   ]
  },
  {
   "cell_type": "markdown",
   "id": "086eef90-1809-45d0-abc0-6d6d36e5c620",
   "metadata": {},
   "source": [
    "# Data exploration"
   ]
  },
  {
   "cell_type": "code",
   "execution_count": 5,
   "id": "0a120edb-43f0-4524-9fc2-2d9a43e361ac",
   "metadata": {
    "scrolled": true
   },
   "outputs": [
    {
     "data": {
      "text/plain": [
       "array(['Unnamed: 0', 'Unnamed: 0.1', 'id', 'member_id', 'loan_amnt',\n",
       "       'funded_amnt', 'funded_amnt_inv', 'term', 'int_rate',\n",
       "       'installment', 'grade', 'sub_grade', 'emp_title', 'emp_length',\n",
       "       'home_ownership', 'annual_inc', 'verification_status', 'issue_d',\n",
       "       'loan_status', 'pymnt_plan', 'url', 'desc', 'purpose', 'title',\n",
       "       'zip_code', 'addr_state', 'dti', 'delinq_2yrs', 'earliest_cr_line',\n",
       "       'inq_last_6mths', 'mths_since_last_delinq',\n",
       "       'mths_since_last_record', 'open_acc', 'pub_rec', 'revol_bal',\n",
       "       'revol_util', 'total_acc', 'initial_list_status', 'out_prncp',\n",
       "       'out_prncp_inv', 'total_pymnt', 'total_pymnt_inv',\n",
       "       'total_rec_prncp', 'total_rec_int', 'total_rec_late_fee',\n",
       "       'recoveries', 'collection_recovery_fee', 'last_pymnt_d',\n",
       "       'last_pymnt_amnt', 'next_pymnt_d', 'last_credit_pull_d',\n",
       "       'collections_12_mths_ex_med', 'mths_since_last_major_derog',\n",
       "       'policy_code', 'application_type', 'annual_inc_joint', 'dti_joint',\n",
       "       'verification_status_joint', 'acc_now_delinq', 'tot_coll_amt',\n",
       "       'tot_cur_bal', 'open_acc_6m', 'open_il_6m', 'open_il_12m',\n",
       "       'open_il_24m', 'mths_since_rcnt_il', 'total_bal_il', 'il_util',\n",
       "       'open_rv_12m', 'open_rv_24m', 'max_bal_bc', 'all_util',\n",
       "       'total_rev_hi_lim', 'inq_fi', 'total_cu_tl', 'inq_last_12m',\n",
       "       'emp_length_int', 'term_int', 'earliest_cr_line_date',\n",
       "       'Mths_since_earliest_cr_line', 'issue_date', 'Mths_since_issue_d',\n",
       "       'grade:A', 'grade:B', 'grade:C', 'grade:D', 'grade:E', 'grade:F',\n",
       "       'grade:G', 'sub_grade:A1', 'sub_grade:A2', 'sub_grade:A3',\n",
       "       'sub_grade:A4', 'sub_grade:A5', 'sub_grade:B1', 'sub_grade:B2',\n",
       "       'sub_grade:B3', 'sub_grade:B4', 'sub_grade:B5', 'sub_grade:C1',\n",
       "       'sub_grade:C2', 'sub_grade:C3', 'sub_grade:C4', 'sub_grade:C5',\n",
       "       'sub_grade:D1', 'sub_grade:D2', 'sub_grade:D3', 'sub_grade:D4',\n",
       "       'sub_grade:D5', 'sub_grade:E1', 'sub_grade:E2', 'sub_grade:E3',\n",
       "       'sub_grade:E4', 'sub_grade:E5', 'sub_grade:F1', 'sub_grade:F2',\n",
       "       'sub_grade:F3', 'sub_grade:F4', 'sub_grade:F5', 'sub_grade:G1',\n",
       "       'sub_grade:G2', 'sub_grade:G3', 'sub_grade:G4', 'sub_grade:G5',\n",
       "       'home_ownership:ANY', 'home_ownership:MORTGAGE',\n",
       "       'home_ownership:NONE', 'home_ownership:OTHER',\n",
       "       'home_ownership:OWN', 'home_ownership:RENT',\n",
       "       'verification_status:Not Verified',\n",
       "       'verification_status:Source Verified',\n",
       "       'verification_status:Verified', 'loan_status:Charged Off',\n",
       "       'loan_status:Current', 'loan_status:Default',\n",
       "       'loan_status:Does not meet the credit policy. Status:Charged Off',\n",
       "       'loan_status:Does not meet the credit policy. Status:Fully Paid',\n",
       "       'loan_status:Fully Paid', 'loan_status:In Grace Period',\n",
       "       'loan_status:Late (16-30 days)', 'loan_status:Late (31-120 days)',\n",
       "       'purpose:car', 'purpose:credit_card', 'purpose:debt_consolidation',\n",
       "       'purpose:educational', 'purpose:home_improvement', 'purpose:house',\n",
       "       'purpose:major_purchase', 'purpose:medical', 'purpose:moving',\n",
       "       'purpose:other', 'purpose:renewable_energy',\n",
       "       'purpose:small_business', 'purpose:vacation', 'purpose:wedding',\n",
       "       'addr_state:AK', 'addr_state:AL', 'addr_state:AR', 'addr_state:AZ',\n",
       "       'addr_state:CA', 'addr_state:CO', 'addr_state:CT', 'addr_state:DC',\n",
       "       'addr_state:DE', 'addr_state:FL', 'addr_state:GA', 'addr_state:HI',\n",
       "       'addr_state:IA', 'addr_state:ID', 'addr_state:IL', 'addr_state:IN',\n",
       "       'addr_state:KS', 'addr_state:KY', 'addr_state:LA', 'addr_state:MA',\n",
       "       'addr_state:MD', 'addr_state:ME', 'addr_state:MI', 'addr_state:MN',\n",
       "       'addr_state:MO', 'addr_state:MS', 'addr_state:MT', 'addr_state:NC',\n",
       "       'addr_state:NE', 'addr_state:NH', 'addr_state:NJ', 'addr_state:NM',\n",
       "       'addr_state:NV', 'addr_state:NY', 'addr_state:OH', 'addr_state:OK',\n",
       "       'addr_state:OR', 'addr_state:PA', 'addr_state:RI', 'addr_state:SC',\n",
       "       'addr_state:SD', 'addr_state:TN', 'addr_state:TX', 'addr_state:UT',\n",
       "       'addr_state:VA', 'addr_state:VT', 'addr_state:WA', 'addr_state:WI',\n",
       "       'addr_state:WV', 'addr_state:WY', 'initial_list_status:f',\n",
       "       'initial_list_status:w', 'good_bad'], dtype=object)"
      ]
     },
     "execution_count": 5,
     "metadata": {},
     "output_type": "execute_result"
    }
   ],
   "source": [
    "loan_data_preprocessed.columns.values"
   ]
  },
  {
   "cell_type": "code",
   "execution_count": 6,
   "id": "73e173a6-6622-43ce-9792-b037ab7f992b",
   "metadata": {},
   "outputs": [
    {
     "data": {
      "text/plain": [
       "array(['Fully Paid', 'Charged Off', 'Current', 'Default',\n",
       "       'Late (31-120 days)', 'In Grace Period', 'Late (16-30 days)',\n",
       "       'Does not meet the credit policy. Status:Fully Paid',\n",
       "       'Does not meet the credit policy. Status:Charged Off'],\n",
       "      dtype=object)"
      ]
     },
     "execution_count": 6,
     "metadata": {},
     "output_type": "execute_result"
    }
   ],
   "source": [
    "loan_data_preprocessed['loan_status'].unique()"
   ]
  },
  {
   "cell_type": "code",
   "execution_count": 7,
   "id": "ba159830-112f-43c1-b349-e08976cc3a1b",
   "metadata": {},
   "outputs": [
    {
     "data": {
      "text/plain": [
       "array(['Charged Off',\n",
       "       'Does not meet the credit policy. Status:Charged Off'],\n",
       "      dtype=object)"
      ]
     },
     "execution_count": 7,
     "metadata": {},
     "output_type": "execute_result"
    }
   ],
   "source": [
    "loan_data_default=loan_data_preprocessed[loan_data_preprocessed['loan_status'].isin(['Charged Off','Does not meet the credit policy. Status:Charged Off'])]\n",
    "loan_data_default['loan_status'].unique()"
   ]
  },
  {
   "cell_type": "code",
   "execution_count": 8,
   "id": "f157bb39-6470-4173-861f-7c4afc2dfbf0",
   "metadata": {},
   "outputs": [
    {
     "data": {
      "text/plain": [
       "(43236, 209)"
      ]
     },
     "execution_count": 8,
     "metadata": {},
     "output_type": "execute_result"
    }
   ],
   "source": [
    "loan_data_default.shape"
   ]
  },
  {
   "cell_type": "code",
   "execution_count": 9,
   "id": "96de0818-5546-45b2-b046-747ae3322c35",
   "metadata": {
    "scrolled": true
   },
   "outputs": [
    {
     "data": {
      "text/plain": [
       "Unnamed: 0                                                             0\n",
       "Unnamed: 0.1                                                           0\n",
       "id                                                                     0\n",
       "member_id                                                              0\n",
       "loan_amnt                                                              0\n",
       "funded_amnt                                                            0\n",
       "funded_amnt_inv                                                        0\n",
       "term                                                                   0\n",
       "int_rate                                                               0\n",
       "installment                                                            0\n",
       "grade                                                                  0\n",
       "sub_grade                                                              0\n",
       "emp_title                                                           3287\n",
       "emp_length                                                          2337\n",
       "home_ownership                                                         0\n",
       "annual_inc                                                             0\n",
       "verification_status                                                    0\n",
       "issue_d                                                                0\n",
       "loan_status                                                            0\n",
       "pymnt_plan                                                             0\n",
       "url                                                                    0\n",
       "desc                                                               27396\n",
       "purpose                                                                0\n",
       "title                                                                  3\n",
       "zip_code                                                               0\n",
       "addr_state                                                             0\n",
       "dti                                                                    0\n",
       "delinq_2yrs                                                            0\n",
       "earliest_cr_line                                                       3\n",
       "inq_last_6mths                                                         0\n",
       "mths_since_last_delinq                                             23950\n",
       "mths_since_last_record                                             37821\n",
       "open_acc                                                               0\n",
       "pub_rec                                                                0\n",
       "revol_bal                                                              0\n",
       "revol_util                                                            53\n",
       "total_acc                                                              0\n",
       "initial_list_status                                                    0\n",
       "out_prncp                                                              0\n",
       "out_prncp_inv                                                          0\n",
       "total_pymnt                                                            0\n",
       "total_pymnt_inv                                                        0\n",
       "total_rec_prncp                                                        0\n",
       "total_rec_int                                                          0\n",
       "total_rec_late_fee                                                     0\n",
       "recoveries                                                             0\n",
       "collection_recovery_fee                                                0\n",
       "last_pymnt_d                                                         376\n",
       "last_pymnt_amnt                                                        0\n",
       "next_pymnt_d                                                       42475\n",
       "last_credit_pull_d                                                     6\n",
       "collections_12_mths_ex_med                                            28\n",
       "mths_since_last_major_derog                                        35283\n",
       "policy_code                                                            0\n",
       "application_type                                                       0\n",
       "annual_inc_joint                                                   43236\n",
       "dti_joint                                                          43236\n",
       "verification_status_joint                                          43236\n",
       "acc_now_delinq                                                         0\n",
       "tot_coll_amt                                                       10780\n",
       "tot_cur_bal                                                        10780\n",
       "open_acc_6m                                                        43236\n",
       "open_il_6m                                                         43236\n",
       "open_il_12m                                                        43236\n",
       "open_il_24m                                                        43236\n",
       "mths_since_rcnt_il                                                 43236\n",
       "total_bal_il                                                       43236\n",
       "il_util                                                            43236\n",
       "open_rv_12m                                                        43236\n",
       "open_rv_24m                                                        43236\n",
       "max_bal_bc                                                         43236\n",
       "all_util                                                           43236\n",
       "total_rev_hi_lim                                                       0\n",
       "inq_fi                                                             43236\n",
       "total_cu_tl                                                        43236\n",
       "inq_last_12m                                                       43236\n",
       "emp_length_int                                                         0\n",
       "term_int                                                               0\n",
       "earliest_cr_line_date                                                  3\n",
       "Mths_since_earliest_cr_line                                            0\n",
       "issue_date                                                             0\n",
       "Mths_since_issue_d                                                     0\n",
       "grade:A                                                                0\n",
       "grade:B                                                                0\n",
       "grade:C                                                                0\n",
       "grade:D                                                                0\n",
       "grade:E                                                                0\n",
       "grade:F                                                                0\n",
       "grade:G                                                                0\n",
       "sub_grade:A1                                                           0\n",
       "sub_grade:A2                                                           0\n",
       "sub_grade:A3                                                           0\n",
       "sub_grade:A4                                                           0\n",
       "sub_grade:A5                                                           0\n",
       "sub_grade:B1                                                           0\n",
       "sub_grade:B2                                                           0\n",
       "sub_grade:B3                                                           0\n",
       "sub_grade:B4                                                           0\n",
       "sub_grade:B5                                                           0\n",
       "sub_grade:C1                                                           0\n",
       "sub_grade:C2                                                           0\n",
       "sub_grade:C3                                                           0\n",
       "sub_grade:C4                                                           0\n",
       "sub_grade:C5                                                           0\n",
       "sub_grade:D1                                                           0\n",
       "sub_grade:D2                                                           0\n",
       "sub_grade:D3                                                           0\n",
       "sub_grade:D4                                                           0\n",
       "sub_grade:D5                                                           0\n",
       "sub_grade:E1                                                           0\n",
       "sub_grade:E2                                                           0\n",
       "sub_grade:E3                                                           0\n",
       "sub_grade:E4                                                           0\n",
       "sub_grade:E5                                                           0\n",
       "sub_grade:F1                                                           0\n",
       "sub_grade:F2                                                           0\n",
       "sub_grade:F3                                                           0\n",
       "sub_grade:F4                                                           0\n",
       "sub_grade:F5                                                           0\n",
       "sub_grade:G1                                                           0\n",
       "sub_grade:G2                                                           0\n",
       "sub_grade:G3                                                           0\n",
       "sub_grade:G4                                                           0\n",
       "sub_grade:G5                                                           0\n",
       "home_ownership:ANY                                                     0\n",
       "home_ownership:MORTGAGE                                                0\n",
       "home_ownership:NONE                                                    0\n",
       "home_ownership:OTHER                                                   0\n",
       "home_ownership:OWN                                                     0\n",
       "home_ownership:RENT                                                    0\n",
       "verification_status:Not Verified                                       0\n",
       "verification_status:Source Verified                                    0\n",
       "verification_status:Verified                                           0\n",
       "loan_status:Charged Off                                                0\n",
       "loan_status:Current                                                    0\n",
       "loan_status:Default                                                    0\n",
       "loan_status:Does not meet the credit policy. Status:Charged Off        0\n",
       "loan_status:Does not meet the credit policy. Status:Fully Paid         0\n",
       "loan_status:Fully Paid                                                 0\n",
       "loan_status:In Grace Period                                            0\n",
       "loan_status:Late (16-30 days)                                          0\n",
       "loan_status:Late (31-120 days)                                         0\n",
       "purpose:car                                                            0\n",
       "purpose:credit_card                                                    0\n",
       "purpose:debt_consolidation                                             0\n",
       "purpose:educational                                                    0\n",
       "purpose:home_improvement                                               0\n",
       "purpose:house                                                          0\n",
       "purpose:major_purchase                                                 0\n",
       "purpose:medical                                                        0\n",
       "purpose:moving                                                         0\n",
       "purpose:other                                                          0\n",
       "purpose:renewable_energy                                               0\n",
       "purpose:small_business                                                 0\n",
       "purpose:vacation                                                       0\n",
       "purpose:wedding                                                        0\n",
       "addr_state:AK                                                          0\n",
       "addr_state:AL                                                          0\n",
       "addr_state:AR                                                          0\n",
       "addr_state:AZ                                                          0\n",
       "addr_state:CA                                                          0\n",
       "addr_state:CO                                                          0\n",
       "addr_state:CT                                                          0\n",
       "addr_state:DC                                                          0\n",
       "addr_state:DE                                                          0\n",
       "addr_state:FL                                                          0\n",
       "addr_state:GA                                                          0\n",
       "addr_state:HI                                                          0\n",
       "addr_state:IA                                                          0\n",
       "addr_state:ID                                                          0\n",
       "addr_state:IL                                                          0\n",
       "addr_state:IN                                                          0\n",
       "addr_state:KS                                                          0\n",
       "addr_state:KY                                                          0\n",
       "addr_state:LA                                                          0\n",
       "addr_state:MA                                                          0\n",
       "addr_state:MD                                                          0\n",
       "addr_state:ME                                                          0\n",
       "addr_state:MI                                                          0\n",
       "addr_state:MN                                                          0\n",
       "addr_state:MO                                                          0\n",
       "addr_state:MS                                                          0\n",
       "addr_state:MT                                                          0\n",
       "addr_state:NC                                                          0\n",
       "addr_state:NE                                                          0\n",
       "addr_state:NH                                                          0\n",
       "addr_state:NJ                                                          0\n",
       "addr_state:NM                                                          0\n",
       "addr_state:NV                                                          0\n",
       "addr_state:NY                                                          0\n",
       "addr_state:OH                                                          0\n",
       "addr_state:OK                                                          0\n",
       "addr_state:OR                                                          0\n",
       "addr_state:PA                                                          0\n",
       "addr_state:RI                                                          0\n",
       "addr_state:SC                                                          0\n",
       "addr_state:SD                                                          0\n",
       "addr_state:TN                                                          0\n",
       "addr_state:TX                                                          0\n",
       "addr_state:UT                                                          0\n",
       "addr_state:VA                                                          0\n",
       "addr_state:VT                                                          0\n",
       "addr_state:WA                                                          0\n",
       "addr_state:WI                                                          0\n",
       "addr_state:WV                                                          0\n",
       "addr_state:WY                                                          0\n",
       "initial_list_status:f                                                  0\n",
       "initial_list_status:w                                                  0\n",
       "good_bad                                                               0\n",
       "dtype: int64"
      ]
     },
     "execution_count": 9,
     "metadata": {},
     "output_type": "execute_result"
    }
   ],
   "source": [
    "pd.options.display.max_rows=None\n",
    "loan_data_default.isnull().sum()"
   ]
  },
  {
   "cell_type": "markdown",
   "id": "1a76a003-0cc1-4e70-b4d4-1afd0279e964",
   "metadata": {},
   "source": [
    "# preprocessing\n"
   ]
  },
  {
   "cell_type": "markdown",
   "id": "12a71559-9733-48a7-af4c-dd5572d4dde0",
   "metadata": {},
   "source": [
    "* Null value imputation"
   ]
  },
  {
   "cell_type": "code",
   "execution_count": 10,
   "id": "ea01af78-1369-4fab-9fbc-ff5dcd884b8c",
   "metadata": {},
   "outputs": [
    {
     "data": {
      "text/plain": [
       "0"
      ]
     },
     "execution_count": 10,
     "metadata": {},
     "output_type": "execute_result"
    }
   ],
   "source": [
    "loan_data_default['mths_since_last_delinq'].fillna(0,inplace=True)\n",
    "loan_data_default['mths_since_last_delinq'].isnull().sum()"
   ]
  },
  {
   "cell_type": "code",
   "execution_count": 11,
   "id": "56197fe8-64fe-4ea1-b0a9-e0df5705db6d",
   "metadata": {},
   "outputs": [
    {
     "data": {
      "text/plain": [
       "0"
      ]
     },
     "execution_count": 11,
     "metadata": {},
     "output_type": "execute_result"
    }
   ],
   "source": [
    "loan_data_default['mths_since_last_record'].fillna(0,inplace=True)\n",
    "loan_data_default['mths_since_last_record'].isnull().sum()"
   ]
  },
  {
   "cell_type": "markdown",
   "id": "812615e5-fd27-43c4-a0ab-064b3f54168a",
   "metadata": {},
   "source": [
    "# dependent variable for LGD(loss given default)."
   ]
  },
  {
   "cell_type": "code",
   "execution_count": 12,
   "id": "f0b210d9-cf1e-4faa-8fec-ed36a58e5143",
   "metadata": {},
   "outputs": [],
   "source": [
    "loan_data_default['recovery_rate']=loan_data_default['recoveries']/loan_data_default['funded_amnt']"
   ]
  },
  {
   "cell_type": "code",
   "execution_count": 13,
   "id": "89a96556-9a85-4a26-af66-5a6d623753ce",
   "metadata": {},
   "outputs": [
    {
     "data": {
      "text/plain": [
       "count    43236.000000\n",
       "mean         0.060820\n",
       "std          0.089770\n",
       "min          0.000000\n",
       "25%          0.000000\n",
       "50%          0.029466\n",
       "75%          0.114044\n",
       "max          1.220774\n",
       "Name: recovery_rate, dtype: float64"
      ]
     },
     "execution_count": 13,
     "metadata": {},
     "output_type": "execute_result"
    }
   ],
   "source": [
    "loan_data_default['recovery_rate'].describe()"
   ]
  },
  {
   "cell_type": "markdown",
   "id": "5f363fc2-8fd7-4c3b-84c2-9ed1311e5fca",
   "metadata": {},
   "source": [
    "* since this recovery rate value should be in between 0 to 1 so value which lies outside this range that should truncated to 0 or 1. \n"
   ]
  },
  {
   "cell_type": "code",
   "execution_count": 14,
   "id": "f0a0c837-e510-4222-9d19-e06bf969dcb0",
   "metadata": {},
   "outputs": [],
   "source": [
    "loan_data_default['recovery_rate']=np.where(loan_data_default['recovery_rate']<0,0,loan_data_default['recovery_rate'])\n",
    "loan_data_default['recovery_rate']=np.where(loan_data_default['recovery_rate']>1,1,loan_data_default['recovery_rate'])\n"
   ]
  },
  {
   "cell_type": "code",
   "execution_count": 15,
   "id": "d5b80e15-0cda-4018-b8df-7f20027664b8",
   "metadata": {},
   "outputs": [
    {
     "data": {
      "text/plain": [
       "count    43236.000000\n",
       "mean         0.060770\n",
       "std          0.089202\n",
       "min          0.000000\n",
       "25%          0.000000\n",
       "50%          0.029466\n",
       "75%          0.114044\n",
       "max          1.000000\n",
       "Name: recovery_rate, dtype: float64"
      ]
     },
     "execution_count": 15,
     "metadata": {},
     "output_type": "execute_result"
    }
   ],
   "source": [
    "loan_data_default['recovery_rate'].describe()"
   ]
  },
  {
   "cell_type": "markdown",
   "id": "6844073b-d3ae-48c2-a5dd-29d920899bb5",
   "metadata": {},
   "source": [
    "# dependent variable for EAD exposure at default"
   ]
  },
  {
   "cell_type": "markdown",
   "id": "d593399f-8b86-46be-ae50-214042a4e1e7",
   "metadata": {},
   "source": [
    "* credit conversion rate: (1- proportion of money which has already paid by the borrowers before default)\n",
    "* EAD= 'total funded amount' X 'credit conversion factor'\n",
    "* Credit coversion factor= 1- 'total recovered priceple'/'funded amount'\n",
    "* total recovered principal: total payment made on principal of the loan."
   ]
  },
  {
   "cell_type": "code",
   "execution_count": 16,
   "id": "9ac476c2-0bfd-4baa-a9d4-c7305319737c",
   "metadata": {},
   "outputs": [
    {
     "data": {
      "text/plain": [
       "count    43236.000000\n",
       "mean         0.735952\n",
       "std          0.200742\n",
       "min          0.000438\n",
       "25%          0.632088\n",
       "50%          0.789908\n",
       "75%          0.888543\n",
       "max          1.000000\n",
       "Name: CCF, dtype: float64"
      ]
     },
     "execution_count": 16,
     "metadata": {},
     "output_type": "execute_result"
    }
   ],
   "source": [
    "loan_data_default['CCF']= (loan_data_default['funded_amnt']-loan_data_default['total_rec_prncp'])/loan_data_default['funded_amnt']\n",
    "loan_data_default['CCF'].describe()"
   ]
  },
  {
   "cell_type": "code",
   "execution_count": 17,
   "id": "c8b03251-426b-4538-895d-62ed1785ffb9",
   "metadata": {},
   "outputs": [
    {
     "data": {
      "text/html": [
       "<div>\n",
       "<style scoped>\n",
       "    .dataframe tbody tr th:only-of-type {\n",
       "        vertical-align: middle;\n",
       "    }\n",
       "\n",
       "    .dataframe tbody tr th {\n",
       "        vertical-align: top;\n",
       "    }\n",
       "\n",
       "    .dataframe thead th {\n",
       "        text-align: right;\n",
       "    }\n",
       "</style>\n",
       "<table border=\"1\" class=\"dataframe\">\n",
       "  <thead>\n",
       "    <tr style=\"text-align: right;\">\n",
       "      <th></th>\n",
       "      <th>Unnamed: 0</th>\n",
       "      <th>Unnamed: 0.1</th>\n",
       "      <th>id</th>\n",
       "      <th>member_id</th>\n",
       "      <th>loan_amnt</th>\n",
       "      <th>funded_amnt</th>\n",
       "      <th>funded_amnt_inv</th>\n",
       "      <th>term</th>\n",
       "      <th>int_rate</th>\n",
       "      <th>installment</th>\n",
       "      <th>...</th>\n",
       "      <th>addr_state:VT</th>\n",
       "      <th>addr_state:WA</th>\n",
       "      <th>addr_state:WI</th>\n",
       "      <th>addr_state:WV</th>\n",
       "      <th>addr_state:WY</th>\n",
       "      <th>initial_list_status:f</th>\n",
       "      <th>initial_list_status:w</th>\n",
       "      <th>good_bad</th>\n",
       "      <th>recovery_rate</th>\n",
       "      <th>CCF</th>\n",
       "    </tr>\n",
       "  </thead>\n",
       "  <tbody>\n",
       "    <tr>\n",
       "      <th>1</th>\n",
       "      <td>1</td>\n",
       "      <td>1</td>\n",
       "      <td>1077430</td>\n",
       "      <td>1314167</td>\n",
       "      <td>2500</td>\n",
       "      <td>2500</td>\n",
       "      <td>2500.0</td>\n",
       "      <td>60 months</td>\n",
       "      <td>15.27</td>\n",
       "      <td>59.83</td>\n",
       "      <td>...</td>\n",
       "      <td>0</td>\n",
       "      <td>0</td>\n",
       "      <td>0</td>\n",
       "      <td>0</td>\n",
       "      <td>0</td>\n",
       "      <td>1</td>\n",
       "      <td>0</td>\n",
       "      <td>0</td>\n",
       "      <td>0.046832</td>\n",
       "      <td>0.817416</td>\n",
       "    </tr>\n",
       "    <tr>\n",
       "      <th>8</th>\n",
       "      <td>8</td>\n",
       "      <td>8</td>\n",
       "      <td>1071795</td>\n",
       "      <td>1306957</td>\n",
       "      <td>5600</td>\n",
       "      <td>5600</td>\n",
       "      <td>5600.0</td>\n",
       "      <td>60 months</td>\n",
       "      <td>21.28</td>\n",
       "      <td>152.39</td>\n",
       "      <td>...</td>\n",
       "      <td>0</td>\n",
       "      <td>0</td>\n",
       "      <td>0</td>\n",
       "      <td>0</td>\n",
       "      <td>0</td>\n",
       "      <td>1</td>\n",
       "      <td>0</td>\n",
       "      <td>0</td>\n",
       "      <td>0.033761</td>\n",
       "      <td>0.971068</td>\n",
       "    </tr>\n",
       "    <tr>\n",
       "      <th>9</th>\n",
       "      <td>9</td>\n",
       "      <td>9</td>\n",
       "      <td>1071570</td>\n",
       "      <td>1306721</td>\n",
       "      <td>5375</td>\n",
       "      <td>5375</td>\n",
       "      <td>5350.0</td>\n",
       "      <td>60 months</td>\n",
       "      <td>12.69</td>\n",
       "      <td>121.45</td>\n",
       "      <td>...</td>\n",
       "      <td>0</td>\n",
       "      <td>0</td>\n",
       "      <td>0</td>\n",
       "      <td>0</td>\n",
       "      <td>0</td>\n",
       "      <td>1</td>\n",
       "      <td>0</td>\n",
       "      <td>0</td>\n",
       "      <td>0.050100</td>\n",
       "      <td>0.874701</td>\n",
       "    </tr>\n",
       "    <tr>\n",
       "      <th>12</th>\n",
       "      <td>12</td>\n",
       "      <td>12</td>\n",
       "      <td>1064687</td>\n",
       "      <td>1298717</td>\n",
       "      <td>9000</td>\n",
       "      <td>9000</td>\n",
       "      <td>9000.0</td>\n",
       "      <td>36 months</td>\n",
       "      <td>13.49</td>\n",
       "      <td>305.38</td>\n",
       "      <td>...</td>\n",
       "      <td>0</td>\n",
       "      <td>0</td>\n",
       "      <td>0</td>\n",
       "      <td>0</td>\n",
       "      <td>0</td>\n",
       "      <td>1</td>\n",
       "      <td>0</td>\n",
       "      <td>0</td>\n",
       "      <td>0.049367</td>\n",
       "      <td>0.860429</td>\n",
       "    </tr>\n",
       "    <tr>\n",
       "      <th>14</th>\n",
       "      <td>14</td>\n",
       "      <td>14</td>\n",
       "      <td>1069057</td>\n",
       "      <td>1303503</td>\n",
       "      <td>10000</td>\n",
       "      <td>10000</td>\n",
       "      <td>10000.0</td>\n",
       "      <td>36 months</td>\n",
       "      <td>10.65</td>\n",
       "      <td>325.74</td>\n",
       "      <td>...</td>\n",
       "      <td>0</td>\n",
       "      <td>0</td>\n",
       "      <td>0</td>\n",
       "      <td>0</td>\n",
       "      <td>0</td>\n",
       "      <td>1</td>\n",
       "      <td>0</td>\n",
       "      <td>0</td>\n",
       "      <td>0.064510</td>\n",
       "      <td>0.456653</td>\n",
       "    </tr>\n",
       "  </tbody>\n",
       "</table>\n",
       "<p>5 rows × 211 columns</p>\n",
       "</div>"
      ],
      "text/plain": [
       "    Unnamed: 0  Unnamed: 0.1       id  member_id  loan_amnt  funded_amnt  \\\n",
       "1            1             1  1077430    1314167       2500         2500   \n",
       "8            8             8  1071795    1306957       5600         5600   \n",
       "9            9             9  1071570    1306721       5375         5375   \n",
       "12          12            12  1064687    1298717       9000         9000   \n",
       "14          14            14  1069057    1303503      10000        10000   \n",
       "\n",
       "    funded_amnt_inv        term  int_rate  installment  ... addr_state:VT  \\\n",
       "1            2500.0   60 months     15.27        59.83  ...             0   \n",
       "8            5600.0   60 months     21.28       152.39  ...             0   \n",
       "9            5350.0   60 months     12.69       121.45  ...             0   \n",
       "12           9000.0   36 months     13.49       305.38  ...             0   \n",
       "14          10000.0   36 months     10.65       325.74  ...             0   \n",
       "\n",
       "   addr_state:WA addr_state:WI addr_state:WV addr_state:WY  \\\n",
       "1              0             0             0             0   \n",
       "8              0             0             0             0   \n",
       "9              0             0             0             0   \n",
       "12             0             0             0             0   \n",
       "14             0             0             0             0   \n",
       "\n",
       "    initial_list_status:f initial_list_status:w good_bad recovery_rate  \\\n",
       "1                       1                     0        0      0.046832   \n",
       "8                       1                     0        0      0.033761   \n",
       "9                       1                     0        0      0.050100   \n",
       "12                      1                     0        0      0.049367   \n",
       "14                      1                     0        0      0.064510   \n",
       "\n",
       "         CCF  \n",
       "1   0.817416  \n",
       "8   0.971068  \n",
       "9   0.874701  \n",
       "12  0.860429  \n",
       "14  0.456653  \n",
       "\n",
       "[5 rows x 211 columns]"
      ]
     },
     "execution_count": 17,
     "metadata": {},
     "output_type": "execute_result"
    }
   ],
   "source": [
    "loan_data_default.head()"
   ]
  },
  {
   "cell_type": "code",
   "execution_count": 18,
   "id": "f9d6fcae-362c-4ed6-9b35-0507993daec1",
   "metadata": {},
   "outputs": [],
   "source": [
    "loan_data_default.to_csv('loan_data_default.csv')"
   ]
  },
  {
   "cell_type": "code",
   "execution_count": 19,
   "id": "b2b19f41-964f-481a-8b37-84386999a989",
   "metadata": {},
   "outputs": [
    {
     "data": {
      "image/png": "[encoded data removed]"
     },
     "metadata": {},
     "output_type": "display_data"
    }
   ],
   "source": [
    "fig=px.histogram(loan_data_default,x='recovery_rate')\n",
    "fig.update_layout(title='distribution of recovery rate',\n",
    "                 xaxis=dict(title='recovery rate'),\n",
    "                  yaxis=dict(title='frequency of occurences')\n",
    "                 )\n",
    "fig.show('png')"
   ]
  },
  {
   "cell_type": "code",
   "execution_count": 20,
   "id": "62518c38-6245-422b-8552-5e7755edcc24",
   "metadata": {},
   "outputs": [
    {
     "data": {
      "image/png": "[encoded data removed]"
     },
     "metadata": {},
     "output_type": "display_data"
    }
   ],
   "source": [
    "fig=px.histogram(loan_data_default,x='CCF')\n",
    "fig.update_layout(title='distribution of credit conversion factor',\n",
    "                 xaxis=dict(title='credit conversion factor'),\n",
    "                  yaxis=dict(title='frequency of occurences')\n",
    "                 )\n",
    "fig.show('png')"
   ]
  },
  {
   "cell_type": "markdown",
   "id": "9fcd7c3d-74e6-43fb-aaee-fcdff655d8a9",
   "metadata": {},
   "source": [
    "* by observing the distribution of recovery rate it is decieded that prediction of this column will be done in two phase\n",
    "* in first phase with logistic regression it will be predicted that the recovery rate is 0 or not since the frequencey of occurence of 0 is more than frequency of other rate value combined.\n",
    "* if the prediction value is not zero but more than zero then how much more than zero will be predicted by linear regression."
   ]
  },
  {
   "cell_type": "code",
   "execution_count": 21,
   "id": "488dd6ad-99ae-46f5-9fd1-7b93ba92a834",
   "metadata": {},
   "outputs": [],
   "source": [
    "loan_data_default['recovery_rate_0_1']=np.where(loan_data_default['recovery_rate']==0,0,1)"
   ]
  },
  {
   "cell_type": "code",
   "execution_count": 22,
   "id": "f1039da6-89f5-4a11-a821-a42ed415b6dc",
   "metadata": {},
   "outputs": [
    {
     "data": {
      "image/png": "[encoded data removed]"
     },
     "metadata": {},
     "output_type": "display_data"
    }
   ],
   "source": [
    "fig=px.histogram(loan_data_default,x='recovery_rate_0_1')\n",
    "fig.update_layout(title='distribution of recovery rate of 0 ',\n",
    "                 xaxis=dict(title='recovery rate_0_1'),\n",
    "                  yaxis=dict(title='frequency of occurences')\n",
    "                 )\n",
    "fig.show('png')"
   ]
  },
  {
   "cell_type": "markdown",
   "id": "ee6273bb-503d-49bf-abdd-79f6b98a793f",
   "metadata": {},
   "source": [
    "# preparing training data to train logistic model to predict that the recovery rate is 0 or more than 0."
   ]
  },
  {
   "cell_type": "code",
   "execution_count": 23,
   "id": "9b031608-e276-4e08-a859-398a0bee5dce",
   "metadata": {},
   "outputs": [],
   "source": [
    "# splitting data\n",
    "lgd_inputs_stage_1_train,lgd_inputs_stage_1_test,lgd_target_stage_1_train,lgd_target_stage_1_test=train_test_split(loan_data_default.drop(columns=['recovery_rate','CCF','recovery_rate_0_1'],axis=1),loan_data_default['recovery_rate_0_1'],test_size=0.2, random_state=42)"
   ]
  },
  {
   "cell_type": "code",
   "execution_count": 24,
   "id": "bfa56ddd-e134-4c25-a909-954ac838d5b4",
   "metadata": {},
   "outputs": [
    {
     "data": {
      "text/plain": [
       "((34588, 209), (8648, 209), (34588,), (8648,))"
      ]
     },
     "execution_count": 24,
     "metadata": {},
     "output_type": "execute_result"
    }
   ],
   "source": [
    "lgd_inputs_stage_1_train.shape,lgd_inputs_stage_1_test.shape,lgd_target_stage_1_train.shape,lgd_target_stage_1_test.shape"
   ]
  },
  {
   "cell_type": "code",
   "execution_count": 25,
   "id": "fcb720f1-5fc1-4507-979c-c4042c77f790",
   "metadata": {},
   "outputs": [],
   "source": [
    "# preparing the inputs\n",
    "feature_all=[\n",
    "'grade:A',\n",
    "'grade:B', \n",
    "'grade:C',\n",
    "'grade:D',\n",
    "'grade:E',\n",
    "'grade:F',\n",
    "'grade:G',\n",
    "\n",
    "'home_ownership:ANY', 'home_ownership:MORTGAGE',\n",
    "'home_ownership:NONE', 'home_ownership:OTHER',\n",
    "'home_ownership:OWN', 'home_ownership:RENT',\n",
    "\n",
    "'verification_status:Not Verified',\n",
    "'verification_status:Source Verified',\n",
    "'verification_status:Verified',\n",
    "\n",
    " 'purpose:car', 'purpose:credit_card', 'purpose:debt_consolidation',\n",
    "       'purpose:educational', 'purpose:home_improvement', 'purpose:house',\n",
    "       'purpose:major_purchase', 'purpose:medical', 'purpose:moving',\n",
    "       'purpose:other', 'purpose:renewable_energy',\n",
    "       'purpose:small_business', 'purpose:vacation', 'purpose:wedding',\n",
    "\n",
    "'initial_list_status:f',\n",
    "'initial_list_status:w',\n",
    "\n",
    "'term_int',\n",
    "'emp_length_int',\n",
    "'Mths_since_issue_d',\n",
    "'Mths_since_earliest_cr_line',\n",
    "'funded_amnt',\n",
    "'int_rate',\n",
    "'installment',\n",
    "'annual_inc',\n",
    "'dti',\n",
    "'delinq_2yrs',\n",
    "'inq_last_6mths',\n",
    "'mths_since_last_delinq',\n",
    "'mths_since_last_record',\n",
    "'open_acc',\n",
    "'pub_rec',\n",
    "'total_acc',\n",
    "'acc_now_delinq',\n",
    "'total_rev_hi_lim'\n",
    "]"
   ]
  },
  {
   "cell_type": "code",
   "execution_count": 26,
   "id": "c231f799-26e8-4662-a243-1735f8ed331e",
   "metadata": {},
   "outputs": [],
   "source": [
    "feature_reference=[\n",
    "'grade:G',\n",
    "'home_ownership:RENT',\n",
    "'verification_status:Verified',\n",
    "'purpose:credit_card',\n",
    "'initial_list_status:f',\n",
    "]"
   ]
  },
  {
   "cell_type": "code",
   "execution_count": 27,
   "id": "6f630b32-0783-4199-9dec-5f90476b39da",
   "metadata": {},
   "outputs": [],
   "source": [
    "lgd_inputs_stage_1_train=lgd_inputs_stage_1_train[feature_all]\n",
    "lgd_inputs_stage_1_train.drop(columns=feature_reference,inplace=True,axis=1)"
   ]
  },
  {
   "cell_type": "code",
   "execution_count": 28,
   "id": "dbebbcd3-8157-4a9f-9a2a-2a901e1e02bc",
   "metadata": {},
   "outputs": [
    {
     "data": {
      "text/html": [
       "<div>\n",
       "<style scoped>\n",
       "    .dataframe tbody tr th:only-of-type {\n",
       "        vertical-align: middle;\n",
       "    }\n",
       "\n",
       "    .dataframe tbody tr th {\n",
       "        vertical-align: top;\n",
       "    }\n",
       "\n",
       "    .dataframe thead th {\n",
       "        text-align: right;\n",
       "    }\n",
       "</style>\n",
       "<table border=\"1\" class=\"dataframe\">\n",
       "  <thead>\n",
       "    <tr style=\"text-align: right;\">\n",
       "      <th></th>\n",
       "      <th>grade:A</th>\n",
       "      <th>grade:B</th>\n",
       "      <th>grade:C</th>\n",
       "      <th>grade:D</th>\n",
       "      <th>grade:E</th>\n",
       "      <th>grade:F</th>\n",
       "      <th>home_ownership:ANY</th>\n",
       "      <th>home_ownership:MORTGAGE</th>\n",
       "      <th>home_ownership:NONE</th>\n",
       "      <th>home_ownership:OTHER</th>\n",
       "      <th>...</th>\n",
       "      <th>dti</th>\n",
       "      <th>delinq_2yrs</th>\n",
       "      <th>inq_last_6mths</th>\n",
       "      <th>mths_since_last_delinq</th>\n",
       "      <th>mths_since_last_record</th>\n",
       "      <th>open_acc</th>\n",
       "      <th>pub_rec</th>\n",
       "      <th>total_acc</th>\n",
       "      <th>acc_now_delinq</th>\n",
       "      <th>total_rev_hi_lim</th>\n",
       "    </tr>\n",
       "  </thead>\n",
       "  <tbody>\n",
       "    <tr>\n",
       "      <th>165859</th>\n",
       "      <td>0</td>\n",
       "      <td>0</td>\n",
       "      <td>0</td>\n",
       "      <td>1</td>\n",
       "      <td>0</td>\n",
       "      <td>0</td>\n",
       "      <td>0</td>\n",
       "      <td>0</td>\n",
       "      <td>0</td>\n",
       "      <td>0</td>\n",
       "      <td>...</td>\n",
       "      <td>26.31</td>\n",
       "      <td>0.0</td>\n",
       "      <td>2.0</td>\n",
       "      <td>0.0</td>\n",
       "      <td>0.0</td>\n",
       "      <td>17.0</td>\n",
       "      <td>0.0</td>\n",
       "      <td>34.0</td>\n",
       "      <td>0.0</td>\n",
       "      <td>13700.0</td>\n",
       "    </tr>\n",
       "    <tr>\n",
       "      <th>213563</th>\n",
       "      <td>0</td>\n",
       "      <td>0</td>\n",
       "      <td>1</td>\n",
       "      <td>0</td>\n",
       "      <td>0</td>\n",
       "      <td>0</td>\n",
       "      <td>0</td>\n",
       "      <td>0</td>\n",
       "      <td>0</td>\n",
       "      <td>0</td>\n",
       "      <td>...</td>\n",
       "      <td>27.21</td>\n",
       "      <td>0.0</td>\n",
       "      <td>3.0</td>\n",
       "      <td>0.0</td>\n",
       "      <td>0.0</td>\n",
       "      <td>11.0</td>\n",
       "      <td>0.0</td>\n",
       "      <td>13.0</td>\n",
       "      <td>0.0</td>\n",
       "      <td>3000.0</td>\n",
       "    </tr>\n",
       "    <tr>\n",
       "      <th>182682</th>\n",
       "      <td>0</td>\n",
       "      <td>0</td>\n",
       "      <td>0</td>\n",
       "      <td>1</td>\n",
       "      <td>0</td>\n",
       "      <td>0</td>\n",
       "      <td>0</td>\n",
       "      <td>0</td>\n",
       "      <td>0</td>\n",
       "      <td>0</td>\n",
       "      <td>...</td>\n",
       "      <td>20.33</td>\n",
       "      <td>0.0</td>\n",
       "      <td>1.0</td>\n",
       "      <td>0.0</td>\n",
       "      <td>0.0</td>\n",
       "      <td>7.0</td>\n",
       "      <td>0.0</td>\n",
       "      <td>38.0</td>\n",
       "      <td>0.0</td>\n",
       "      <td>14600.0</td>\n",
       "    </tr>\n",
       "    <tr>\n",
       "      <th>81769</th>\n",
       "      <td>0</td>\n",
       "      <td>0</td>\n",
       "      <td>1</td>\n",
       "      <td>0</td>\n",
       "      <td>0</td>\n",
       "      <td>0</td>\n",
       "      <td>0</td>\n",
       "      <td>1</td>\n",
       "      <td>0</td>\n",
       "      <td>0</td>\n",
       "      <td>...</td>\n",
       "      <td>17.31</td>\n",
       "      <td>0.0</td>\n",
       "      <td>0.0</td>\n",
       "      <td>0.0</td>\n",
       "      <td>68.0</td>\n",
       "      <td>12.0</td>\n",
       "      <td>2.0</td>\n",
       "      <td>30.0</td>\n",
       "      <td>0.0</td>\n",
       "      <td>5800.0</td>\n",
       "    </tr>\n",
       "    <tr>\n",
       "      <th>74862</th>\n",
       "      <td>0</td>\n",
       "      <td>0</td>\n",
       "      <td>0</td>\n",
       "      <td>0</td>\n",
       "      <td>1</td>\n",
       "      <td>0</td>\n",
       "      <td>0</td>\n",
       "      <td>0</td>\n",
       "      <td>0</td>\n",
       "      <td>0</td>\n",
       "      <td>...</td>\n",
       "      <td>24.28</td>\n",
       "      <td>0.0</td>\n",
       "      <td>0.0</td>\n",
       "      <td>72.0</td>\n",
       "      <td>0.0</td>\n",
       "      <td>13.0</td>\n",
       "      <td>0.0</td>\n",
       "      <td>35.0</td>\n",
       "      <td>0.0</td>\n",
       "      <td>15900.0</td>\n",
       "    </tr>\n",
       "  </tbody>\n",
       "</table>\n",
       "<p>5 rows × 45 columns</p>\n",
       "</div>"
      ],
      "text/plain": [
       "        grade:A  grade:B  grade:C  grade:D  grade:E  grade:F  \\\n",
       "165859        0        0        0        1        0        0   \n",
       "213563        0        0        1        0        0        0   \n",
       "182682        0        0        0        1        0        0   \n",
       "81769         0        0        1        0        0        0   \n",
       "74862         0        0        0        0        1        0   \n",
       "\n",
       "        home_ownership:ANY  home_ownership:MORTGAGE  home_ownership:NONE  \\\n",
       "165859                   0                        0                    0   \n",
       "213563                   0                        0                    0   \n",
       "182682                   0                        0                    0   \n",
       "81769                    0                        1                    0   \n",
       "74862                    0                        0                    0   \n",
       "\n",
       "        home_ownership:OTHER  ...    dti  delinq_2yrs  inq_last_6mths  \\\n",
       "165859                     0  ...  26.31          0.0             2.0   \n",
       "213563                     0  ...  27.21          0.0             3.0   \n",
       "182682                     0  ...  20.33          0.0             1.0   \n",
       "81769                      0  ...  17.31          0.0             0.0   \n",
       "74862                      0  ...  24.28          0.0             0.0   \n",
       "\n",
       "        mths_since_last_delinq  mths_since_last_record  open_acc  pub_rec  \\\n",
       "165859                     0.0                     0.0      17.0      0.0   \n",
       "213563                     0.0                     0.0      11.0      0.0   \n",
       "182682                     0.0                     0.0       7.0      0.0   \n",
       "81769                      0.0                    68.0      12.0      2.0   \n",
       "74862                     72.0                     0.0      13.0      0.0   \n",
       "\n",
       "        total_acc  acc_now_delinq  total_rev_hi_lim  \n",
       "165859       34.0             0.0           13700.0  \n",
       "213563       13.0             0.0            3000.0  \n",
       "182682       38.0             0.0           14600.0  \n",
       "81769        30.0             0.0            5800.0  \n",
       "74862        35.0             0.0           15900.0  \n",
       "\n",
       "[5 rows x 45 columns]"
      ]
     },
     "execution_count": 28,
     "metadata": {},
     "output_type": "execute_result"
    }
   ],
   "source": [
    "lgd_inputs_stage_1_train.head()"
   ]
  },
  {
   "cell_type": "markdown",
   "id": "5816fdfa-0b80-4aaf-be61-67dde0296414",
   "metadata": {},
   "source": [
    "# p value of each column "
   ]
  },
  {
   "cell_type": "code",
   "execution_count": 29,
   "id": "78fb7c0d-a3b4-45d0-9656-631a5debff91",
   "metadata": {},
   "outputs": [],
   "source": [
    "f_statistic, p_values = f_classif(lgd_inputs_stage_1_train, lgd_target_stage_1_train)"
   ]
  },
  {
   "cell_type": "code",
   "execution_count": 30,
   "id": "1176976c-368e-4833-88e4-2095065caaaa",
   "metadata": {
    "scrolled": true
   },
   "outputs": [
    {
     "data": {
      "text/html": [
       "<div>\n",
       "<style scoped>\n",
       "    .dataframe tbody tr th:only-of-type {\n",
       "        vertical-align: middle;\n",
       "    }\n",
       "\n",
       "    .dataframe tbody tr th {\n",
       "        vertical-align: top;\n",
       "    }\n",
       "\n",
       "    .dataframe thead th {\n",
       "        text-align: right;\n",
       "    }\n",
       "</style>\n",
       "<table border=\"1\" class=\"dataframe\">\n",
       "  <thead>\n",
       "    <tr style=\"text-align: right;\">\n",
       "      <th></th>\n",
       "      <th>category Name</th>\n",
       "      <th>p_value</th>\n",
       "      <th>prefix</th>\n",
       "    </tr>\n",
       "  </thead>\n",
       "  <tbody>\n",
       "    <tr>\n",
       "      <th>0</th>\n",
       "      <td>grade:A</td>\n",
       "      <td>0.424808</td>\n",
       "      <td>grade</td>\n",
       "    </tr>\n",
       "    <tr>\n",
       "      <th>7</th>\n",
       "      <td>home_ownership:MORTGAGE</td>\n",
       "      <td>0.170322</td>\n",
       "      <td>home_ownership</td>\n",
       "    </tr>\n",
       "    <tr>\n",
       "      <th>8</th>\n",
       "      <td>home_ownership:NONE</td>\n",
       "      <td>0.117024</td>\n",
       "      <td>home_ownership</td>\n",
       "    </tr>\n",
       "    <tr>\n",
       "      <th>9</th>\n",
       "      <td>home_ownership:OTHER</td>\n",
       "      <td>0.144192</td>\n",
       "      <td>home_ownership</td>\n",
       "    </tr>\n",
       "    <tr>\n",
       "      <th>10</th>\n",
       "      <td>home_ownership:OWN</td>\n",
       "      <td>0.427419</td>\n",
       "      <td>home_ownership</td>\n",
       "    </tr>\n",
       "    <tr>\n",
       "      <th>11</th>\n",
       "      <td>verification_status:Not Verified</td>\n",
       "      <td>0.889288</td>\n",
       "      <td>verification_status</td>\n",
       "    </tr>\n",
       "    <tr>\n",
       "      <th>16</th>\n",
       "      <td>purpose:home_improvement</td>\n",
       "      <td>0.053041</td>\n",
       "      <td>purpose</td>\n",
       "    </tr>\n",
       "    <tr>\n",
       "      <th>19</th>\n",
       "      <td>purpose:medical</td>\n",
       "      <td>0.573645</td>\n",
       "      <td>purpose</td>\n",
       "    </tr>\n",
       "    <tr>\n",
       "      <th>20</th>\n",
       "      <td>purpose:moving</td>\n",
       "      <td>0.177351</td>\n",
       "      <td>purpose</td>\n",
       "    </tr>\n",
       "    <tr>\n",
       "      <th>24</th>\n",
       "      <td>purpose:vacation</td>\n",
       "      <td>0.106564</td>\n",
       "      <td>purpose</td>\n",
       "    </tr>\n",
       "    <tr>\n",
       "      <th>28</th>\n",
       "      <td>emp_length_int</td>\n",
       "      <td>0.613480</td>\n",
       "      <td>emp_length_int</td>\n",
       "    </tr>\n",
       "    <tr>\n",
       "      <th>38</th>\n",
       "      <td>mths_since_last_delinq</td>\n",
       "      <td>0.514585</td>\n",
       "      <td>mths_since_last_delinq</td>\n",
       "    </tr>\n",
       "    <tr>\n",
       "      <th>43</th>\n",
       "      <td>acc_now_delinq</td>\n",
       "      <td>0.408069</td>\n",
       "      <td>acc_now_delinq</td>\n",
       "    </tr>\n",
       "  </tbody>\n",
       "</table>\n",
       "</div>"
      ],
      "text/plain": [
       "                       category Name   p_value                  prefix\n",
       "0                            grade:A  0.424808                   grade\n",
       "7            home_ownership:MORTGAGE  0.170322          home_ownership\n",
       "8                home_ownership:NONE  0.117024          home_ownership\n",
       "9               home_ownership:OTHER  0.144192          home_ownership\n",
       "10                home_ownership:OWN  0.427419          home_ownership\n",
       "11  verification_status:Not Verified  0.889288     verification_status\n",
       "16          purpose:home_improvement  0.053041                 purpose\n",
       "19                   purpose:medical  0.573645                 purpose\n",
       "20                    purpose:moving  0.177351                 purpose\n",
       "24                  purpose:vacation  0.106564                 purpose\n",
       "28                    emp_length_int  0.613480          emp_length_int\n",
       "38            mths_since_last_delinq  0.514585  mths_since_last_delinq\n",
       "43                    acc_now_delinq  0.408069          acc_now_delinq"
      ]
     },
     "execution_count": 30,
     "metadata": {},
     "output_type": "execute_result"
    }
   ],
   "source": [
    "category_to_pvalue=pd.DataFrame({ 'category Name':lgd_inputs_stage_1_train.columns.values,\n",
    "                                  'p_value':p_values,\n",
    "                                  'prefix':lgd_inputs_stage_1_train.columns.str.split(':').str[0]\n",
    "             })\n",
    "category_to_pvalue[category_to_pvalue['p_value']>=0.05]"
   ]
  },
  {
   "cell_type": "markdown",
   "id": "8d325aad-0318-4648-a1f2-9fb6304959d5",
   "metadata": {},
   "source": [
    "# estimating logistic regression model."
   ]
  },
  {
   "cell_type": "code",
   "execution_count": 31,
   "id": "cef52fc7-4bc0-4190-949f-511ba08666cd",
   "metadata": {},
   "outputs": [
    {
     "data": {
      "text/html": [
       "<style>#sk-container-id-1 {color: black;}#sk-container-id-1 pre{padding: 0;}#sk-container-id-1 div.sk-toggleable {background-color: white;}#sk-container-id-1 label.sk-toggleable__label {cursor: pointer;display: block;width: 100%;margin-bottom: 0;padding: 0.3em;box-sizing: border-box;text-align: center;}#sk-container-id-1 label.sk-toggleable__label-arrow:before {content: \"▸\";float: left;margin-right: 0.25em;color: #696969;}#sk-container-id-1 label.sk-toggleable__label-arrow:hover:before {color: black;}#sk-container-id-1 div.sk-estimator:hover label.sk-toggleable__label-arrow:before {color: black;}#sk-container-id-1 div.sk-toggleable__content {max-height: 0;max-width: 0;overflow: hidden;text-align: left;background-color: #f0f8ff;}#sk-container-id-1 div.sk-toggleable__content pre {margin: 0.2em;color: black;border-radius: 0.25em;background-color: #f0f8ff;}#sk-container-id-1 input.sk-toggleable__control:checked~div.sk-toggleable__content {max-height: 200px;max-width: 100%;overflow: auto;}#sk-container-id-1 input.sk-toggleable__control:checked~label.sk-toggleable__label-arrow:before {content: \"▾\";}#sk-container-id-1 div.sk-estimator input.sk-toggleable__control:checked~label.sk-toggleable__label {background-color: #d4ebff;}#sk-container-id-1 div.sk-label input.sk-toggleable__control:checked~label.sk-toggleable__label {background-color: #d4ebff;}#sk-container-id-1 input.sk-hidden--visually {border: 0;clip: rect(1px 1px 1px 1px);clip: rect(1px, 1px, 1px, 1px);height: 1px;margin: -1px;overflow: hidden;padding: 0;position: absolute;width: 1px;}#sk-container-id-1 div.sk-estimator {font-family: monospace;background-color: #f0f8ff;border: 1px dotted black;border-radius: 0.25em;box-sizing: border-box;margin-bottom: 0.5em;}#sk-container-id-1 div.sk-estimator:hover {background-color: #d4ebff;}#sk-container-id-1 div.sk-parallel-item::after {content: \"\";width: 100%;border-bottom: 1px solid gray;flex-grow: 1;}#sk-container-id-1 div.sk-label:hover label.sk-toggleable__label {background-color: #d4ebff;}#sk-container-id-1 div.sk-serial::before {content: \"\";position: absolute;border-left: 1px solid gray;box-sizing: border-box;top: 0;bottom: 0;left: 50%;z-index: 0;}#sk-container-id-1 div.sk-serial {display: flex;flex-direction: column;align-items: center;background-color: white;padding-right: 0.2em;padding-left: 0.2em;position: relative;}#sk-container-id-1 div.sk-item {position: relative;z-index: 1;}#sk-container-id-1 div.sk-parallel {display: flex;align-items: stretch;justify-content: center;background-color: white;position: relative;}#sk-container-id-1 div.sk-item::before, #sk-container-id-1 div.sk-parallel-item::before {content: \"\";position: absolute;border-left: 1px solid gray;box-sizing: border-box;top: 0;bottom: 0;left: 50%;z-index: -1;}#sk-container-id-1 div.sk-parallel-item {display: flex;flex-direction: column;z-index: 1;position: relative;background-color: white;}#sk-container-id-1 div.sk-parallel-item:first-child::after {align-self: flex-end;width: 50%;}#sk-container-id-1 div.sk-parallel-item:last-child::after {align-self: flex-start;width: 50%;}#sk-container-id-1 div.sk-parallel-item:only-child::after {width: 0;}#sk-container-id-1 div.sk-dashed-wrapped {border: 1px dashed gray;margin: 0 0.4em 0.5em 0.4em;box-sizing: border-box;padding-bottom: 0.4em;background-color: white;}#sk-container-id-1 div.sk-label label {font-family: monospace;font-weight: bold;display: inline-block;line-height: 1.2em;}#sk-container-id-1 div.sk-label-container {text-align: center;}#sk-container-id-1 div.sk-container {/* jupyter's `normalize.less` sets `[hidden] { display: none; }` but bootstrap.min.css set `[hidden] { display: none !important; }` so we also need the `!important` here to be able to override the default hidden behavior on the sphinx rendered scikit-learn.org. See: https://github.com/scikit-learn/scikit-learn/issues/21755 */display: inline-block !important;position: relative;}#sk-container-id-1 div.sk-text-repr-fallback {display: none;}</style><div id=\"sk-container-id-1\" class=\"sk-top-container\"><div class=\"sk-text-repr-fallback\"><pre>LogisticRegression()</pre><b>In a Jupyter environment, please rerun this cell to show the HTML representation or trust the notebook. <br />On GitHub, the HTML representation is unable to render, please try loading this page with nbviewer.org.</b></div><div class=\"sk-container\" hidden><div class=\"sk-item\"><div class=\"sk-estimator sk-toggleable\"><input class=\"sk-toggleable__control sk-hidden--visually\" id=\"sk-estimator-id-1\" type=\"checkbox\" checked><label for=\"sk-estimator-id-1\" class=\"sk-toggleable__label sk-toggleable__label-arrow\">LogisticRegression</label><div class=\"sk-toggleable__content\"><pre>LogisticRegression()</pre></div></div></div></div></div>"
      ],
      "text/plain": [
       "LogisticRegression()"
      ]
     },
     "execution_count": 31,
     "metadata": {},
     "output_type": "execute_result"
    }
   ],
   "source": [
    "model_logistic_stage_1= LogisticRegression()\n",
    "model_logistic_stage_1.fit(lgd_inputs_stage_1_train,lgd_target_stage_1_train)"
   ]
  },
  {
   "cell_type": "code",
   "execution_count": 32,
   "id": "9ab47413-2f02-46c9-809b-e7fbc782e0e8",
   "metadata": {},
   "outputs": [
    {
     "data": {
      "text/plain": [
       "array([0.58075604, 0.60306373, 0.52938854, 0.51696073, 0.53238834])"
      ]
     },
     "execution_count": 32,
     "metadata": {},
     "output_type": "execute_result"
    }
   ],
   "source": [
    "lgd_proba_stage_1=model_logistic_stage_1.predict_proba(lgd_inputs_stage_1_train)[:,1]\n",
    "lgd_proba_stage_1[:5]"
   ]
  },
  {
   "cell_type": "code",
   "execution_count": 33,
   "id": "0aa3e31d-997b-4ade-877b-64a439aa3990",
   "metadata": {},
   "outputs": [],
   "source": [
    "lgd_target_stage_1_train_temp=lgd_target_stage_1_train.copy()"
   ]
  },
  {
   "cell_type": "code",
   "execution_count": 34,
   "id": "1828abd8-c834-4f0f-86ec-10165406d8c4",
   "metadata": {},
   "outputs": [
    {
     "data": {
      "text/html": [
       "<div>\n",
       "<style scoped>\n",
       "    .dataframe tbody tr th:only-of-type {\n",
       "        vertical-align: middle;\n",
       "    }\n",
       "\n",
       "    .dataframe tbody tr th {\n",
       "        vertical-align: top;\n",
       "    }\n",
       "\n",
       "    .dataframe thead th {\n",
       "        text-align: right;\n",
       "    }\n",
       "</style>\n",
       "<table border=\"1\" class=\"dataframe\">\n",
       "  <thead>\n",
       "    <tr style=\"text-align: right;\">\n",
       "      <th></th>\n",
       "      <th>train_target_stage_1</th>\n",
       "      <th>train_prob_stage_1</th>\n",
       "    </tr>\n",
       "  </thead>\n",
       "  <tbody>\n",
       "    <tr>\n",
       "      <th>0</th>\n",
       "      <td>1</td>\n",
       "      <td>0.580756</td>\n",
       "    </tr>\n",
       "    <tr>\n",
       "      <th>1</th>\n",
       "      <td>1</td>\n",
       "      <td>0.603064</td>\n",
       "    </tr>\n",
       "    <tr>\n",
       "      <th>2</th>\n",
       "      <td>1</td>\n",
       "      <td>0.529389</td>\n",
       "    </tr>\n",
       "    <tr>\n",
       "      <th>3</th>\n",
       "      <td>0</td>\n",
       "      <td>0.516961</td>\n",
       "    </tr>\n",
       "    <tr>\n",
       "      <th>4</th>\n",
       "      <td>0</td>\n",
       "      <td>0.532388</td>\n",
       "    </tr>\n",
       "  </tbody>\n",
       "</table>\n",
       "</div>"
      ],
      "text/plain": [
       "   train_target_stage_1  train_prob_stage_1\n",
       "0                     1            0.580756\n",
       "1                     1            0.603064\n",
       "2                     1            0.529389\n",
       "3                     0            0.516961\n",
       "4                     0            0.532388"
      ]
     },
     "execution_count": 34,
     "metadata": {},
     "output_type": "execute_result"
    }
   ],
   "source": [
    "df_predicted_prob_train_stage1=pd.DataFrame({'train_target_stage_1':lgd_target_stage_1_train_temp,\n",
    "             'train_prob_stage_1':lgd_proba_stage_1\n",
    "             }).reset_index(drop=True)\n",
    "df_predicted_prob_train_stage1.head()"
   ]
  },
  {
   "cell_type": "code",
   "execution_count": 35,
   "id": "eb4894d1-1c64-46fd-b578-1b7c6cc90fe5",
   "metadata": {},
   "outputs": [
    {
     "data": {
      "text/html": [
       "<div>\n",
       "<style scoped>\n",
       "    .dataframe tbody tr th:only-of-type {\n",
       "        vertical-align: middle;\n",
       "    }\n",
       "\n",
       "    .dataframe tbody tr th {\n",
       "        vertical-align: top;\n",
       "    }\n",
       "\n",
       "    .dataframe thead th {\n",
       "        text-align: right;\n",
       "    }\n",
       "</style>\n",
       "<table border=\"1\" class=\"dataframe\">\n",
       "  <thead>\n",
       "    <tr style=\"text-align: right;\">\n",
       "      <th>prediction</th>\n",
       "      <th>0</th>\n",
       "      <th>1</th>\n",
       "    </tr>\n",
       "    <tr>\n",
       "      <th>actual</th>\n",
       "      <th></th>\n",
       "      <th></th>\n",
       "    </tr>\n",
       "  </thead>\n",
       "  <tbody>\n",
       "    <tr>\n",
       "      <th>0</th>\n",
       "      <td>0.160460</td>\n",
       "      <td>0.276194</td>\n",
       "    </tr>\n",
       "    <tr>\n",
       "      <th>1</th>\n",
       "      <td>0.103735</td>\n",
       "      <td>0.459610</td>\n",
       "    </tr>\n",
       "  </tbody>\n",
       "</table>\n",
       "</div>"
      ],
      "text/plain": [
       "prediction         0         1\n",
       "actual                        \n",
       "0           0.160460  0.276194\n",
       "1           0.103735  0.459610"
      ]
     },
     "execution_count": 35,
     "metadata": {},
     "output_type": "execute_result"
    }
   ],
   "source": [
    "tr=0.5\n",
    "df_predicted_prob_train_stage1['predicted_cls']=np.where(df_predicted_prob_train_stage1['train_prob_stage_1']>tr,1,0)\n",
    "df_predicted_prob_train_stage1.index=lgd_target_stage_1_train.index\n",
    "confusionMat=pd.crosstab(index=df_predicted_prob_train_stage1['train_target_stage_1'],columns=df_predicted_prob_train_stage1['predicted_cls'],rownames=['actual'],colnames=['prediction'])\n",
    "confusionMat/df_predicted_prob_train_stage1.shape[0]"
   ]
  },
  {
   "cell_type": "code",
   "execution_count": 36,
   "id": "cc86f5f3-e79e-47b7-baa6-7e43fd4b253e",
   "metadata": {},
   "outputs": [
    {
     "data": {
      "image/png": "[encoded data removed]"
     },
     "metadata": {},
     "output_type": "display_data"
    }
   ],
   "source": [
    "fpr,tpr,thrs=roc_curve(df_predicted_prob_train_stage1['train_target_stage_1'],df_predicted_prob_train_stage1['train_prob_stage_1'])\n",
    "len(fpr),len(tpr),len(thrs)\n",
    "\n",
    "fig=go.Figure()\n",
    "fig.add_trace(go.Scatter(x=fpr, y=tpr,\n",
    "                    mode='lines',\n",
    "                    name='roc curve'))\n",
    "fig.add_trace(go.Scatter(x=fpr, y=fpr,\n",
    "                    mode='lines+markers',\n",
    "                    name='secondary diagonal'))\n",
    "fig.update_layout(title='roc curve ',xaxis=dict(title='false positive rate'),yaxis=dict(title='true positive rate'))\n",
    "fig.show('png')"
   ]
  },
  {
   "cell_type": "code",
   "execution_count": 37,
   "id": "a8d6a6a6-f1e1-4372-a936-bf3c5ce0ac2e",
   "metadata": {},
   "outputs": [
    {
     "name": "stdout",
     "output_type": "stream",
     "text": [
      " area under the roc curve \n"
     ]
    },
    {
     "data": {
      "text/plain": [
       "0.6602577755744486"
      ]
     },
     "execution_count": 37,
     "metadata": {},
     "output_type": "execute_result"
    }
   ],
   "source": [
    "print(''' area under the roc curve ''')\n",
    "roc_auc_score(df_predicted_prob_train_stage1['train_target_stage_1'],df_predicted_prob_train_stage1['train_prob_stage_1'])\n"
   ]
  },
  {
   "cell_type": "markdown",
   "id": "5284b3fb-37a7-400f-bc7e-f09c2f583a56",
   "metadata": {},
   "source": [
    "# testing on Test Data"
   ]
  },
  {
   "cell_type": "code",
   "execution_count": 38,
   "id": "fa4169e5-5ab7-4723-adc5-edfd5da98f78",
   "metadata": {
    "scrolled": true
   },
   "outputs": [],
   "source": [
    "lgd_inputs_stage_1_test=lgd_inputs_stage_1_test[feature_all].drop(columns=feature_reference)"
   ]
  },
  {
   "cell_type": "code",
   "execution_count": 39,
   "id": "34ae734b-c287-4b9b-b421-4a60211096a4",
   "metadata": {},
   "outputs": [
    {
     "data": {
      "text/plain": [
       "array([0.58459518, 0.60086235, 0.50287082, 0.51114859, 0.41806325,\n",
       "       0.5609377 , 0.49890449, 0.57621152, 0.52228165, 0.52816563])"
      ]
     },
     "execution_count": 39,
     "metadata": {},
     "output_type": "execute_result"
    }
   ],
   "source": [
    "lgd_predict_test_stage_1=model_logistic_stage_1.predict_proba(lgd_inputs_stage_1_test)[:,1]\n",
    "lgd_predict_test_stage_1[:10]"
   ]
  },
  {
   "cell_type": "code",
   "execution_count": 40,
   "id": "2c175de4-256c-4a31-b490-f5aa6ba0d8cf",
   "metadata": {},
   "outputs": [],
   "source": [
    "lgd_target_stage_1_test_temp=lgd_target_stage_1_test.copy()"
   ]
  },
  {
   "cell_type": "code",
   "execution_count": 41,
   "id": "cf069ef8-9060-425b-b07c-0e1a33b27117",
   "metadata": {},
   "outputs": [
    {
     "data": {
      "text/html": [
       "<div>\n",
       "<style scoped>\n",
       "    .dataframe tbody tr th:only-of-type {\n",
       "        vertical-align: middle;\n",
       "    }\n",
       "\n",
       "    .dataframe tbody tr th {\n",
       "        vertical-align: top;\n",
       "    }\n",
       "\n",
       "    .dataframe thead th {\n",
       "        text-align: right;\n",
       "    }\n",
       "</style>\n",
       "<table border=\"1\" class=\"dataframe\">\n",
       "  <thead>\n",
       "    <tr style=\"text-align: right;\">\n",
       "      <th></th>\n",
       "      <th>train_target_stage_1</th>\n",
       "      <th>train_prob_stage_1</th>\n",
       "    </tr>\n",
       "  </thead>\n",
       "  <tbody>\n",
       "    <tr>\n",
       "      <th>0</th>\n",
       "      <td>1</td>\n",
       "      <td>0.584595</td>\n",
       "    </tr>\n",
       "    <tr>\n",
       "      <th>1</th>\n",
       "      <td>1</td>\n",
       "      <td>0.600862</td>\n",
       "    </tr>\n",
       "    <tr>\n",
       "      <th>2</th>\n",
       "      <td>0</td>\n",
       "      <td>0.502871</td>\n",
       "    </tr>\n",
       "    <tr>\n",
       "      <th>3</th>\n",
       "      <td>1</td>\n",
       "      <td>0.511149</td>\n",
       "    </tr>\n",
       "    <tr>\n",
       "      <th>4</th>\n",
       "      <td>0</td>\n",
       "      <td>0.418063</td>\n",
       "    </tr>\n",
       "  </tbody>\n",
       "</table>\n",
       "</div>"
      ],
      "text/plain": [
       "   train_target_stage_1  train_prob_stage_1\n",
       "0                     1            0.584595\n",
       "1                     1            0.600862\n",
       "2                     0            0.502871\n",
       "3                     1            0.511149\n",
       "4                     0            0.418063"
      ]
     },
     "execution_count": 41,
     "metadata": {},
     "output_type": "execute_result"
    }
   ],
   "source": [
    "df_predicted_prob_test_stage1=pd.DataFrame({'train_target_stage_1':lgd_target_stage_1_test_temp,\n",
    "             'train_prob_stage_1':lgd_predict_test_stage_1\n",
    "             }).reset_index(drop=True)\n",
    "df_predicted_prob_test_stage1.head()"
   ]
  },
  {
   "cell_type": "code",
   "execution_count": 42,
   "id": "baf81b77-09b6-4d94-a784-319cf514ecaf",
   "metadata": {},
   "outputs": [
    {
     "name": "stdout",
     "output_type": "stream",
     "text": [
      "for threshold value 0.5\n"
     ]
    },
    {
     "data": {
      "text/html": [
       "<div>\n",
       "<style scoped>\n",
       "    .dataframe tbody tr th:only-of-type {\n",
       "        vertical-align: middle;\n",
       "    }\n",
       "\n",
       "    .dataframe tbody tr th {\n",
       "        vertical-align: top;\n",
       "    }\n",
       "\n",
       "    .dataframe thead th {\n",
       "        text-align: right;\n",
       "    }\n",
       "</style>\n",
       "<table border=\"1\" class=\"dataframe\">\n",
       "  <thead>\n",
       "    <tr style=\"text-align: right;\">\n",
       "      <th>prediction</th>\n",
       "      <th>0</th>\n",
       "      <th>1</th>\n",
       "    </tr>\n",
       "    <tr>\n",
       "      <th>actual</th>\n",
       "      <th></th>\n",
       "      <th></th>\n",
       "    </tr>\n",
       "  </thead>\n",
       "  <tbody>\n",
       "    <tr>\n",
       "      <th>0</th>\n",
       "      <td>0.160731</td>\n",
       "      <td>0.274283</td>\n",
       "    </tr>\n",
       "    <tr>\n",
       "      <th>1</th>\n",
       "      <td>0.108696</td>\n",
       "      <td>0.456290</td>\n",
       "    </tr>\n",
       "  </tbody>\n",
       "</table>\n",
       "</div>"
      ],
      "text/plain": [
       "prediction         0         1\n",
       "actual                        \n",
       "0           0.160731  0.274283\n",
       "1           0.108696  0.456290"
      ]
     },
     "execution_count": 42,
     "metadata": {},
     "output_type": "execute_result"
    }
   ],
   "source": [
    "tr=0.5\n",
    "print(f'for threshold value {tr}')\n",
    "df_predicted_prob_test_stage1['predicted_cls']=np.where(df_predicted_prob_test_stage1['train_prob_stage_1']>tr,1,0)\n",
    "df_predicted_prob_test_stage1.index=lgd_target_stage_1_test.index\n",
    "confusionMat=pd.crosstab(index=df_predicted_prob_test_stage1['train_target_stage_1'],columns=df_predicted_prob_test_stage1['predicted_cls'],rownames=['actual'],colnames=['prediction'])\n",
    "confusionMat/df_predicted_prob_test_stage1.shape[0]"
   ]
  },
  {
   "cell_type": "code",
   "execution_count": 43,
   "id": "95f3139b-7bab-40a3-9f81-a8b9ba3cba7f",
   "metadata": {},
   "outputs": [
    {
     "data": {
      "image/png": "[encoded data removed]"
     },
     "metadata": {},
     "output_type": "display_data"
    }
   ],
   "source": [
    "fpr,tpr,thrs=roc_curve(df_predicted_prob_test_stage1['train_target_stage_1'],df_predicted_prob_test_stage1['train_prob_stage_1'])\n",
    "len(fpr),len(tpr),len(thrs)\n",
    "\n",
    "fig=go.Figure()\n",
    "fig.add_trace(go.Scatter(x=fpr, y=tpr,\n",
    "                    mode='lines',\n",
    "                    name='roc curve on test data '))\n",
    "fig.add_trace(go.Scatter(x=fpr, y=fpr,\n",
    "                    mode='lines+markers',\n",
    "                    name='secondary diagonal'))\n",
    "fig.update_layout(title='roc curve ',xaxis=dict(title='false positive rate'),yaxis=dict(title='true positive rate'))\n",
    "fig.show('png')"
   ]
  },
  {
   "cell_type": "code",
   "execution_count": 44,
   "id": "e0de6e97-c14d-4b17-b109-5e64fe3b493b",
   "metadata": {},
   "outputs": [
    {
     "name": "stdout",
     "output_type": "stream",
     "text": [
      " area under the roc curve \n"
     ]
    },
    {
     "data": {
      "text/plain": [
       "0.6557551515325608"
      ]
     },
     "execution_count": 44,
     "metadata": {},
     "output_type": "execute_result"
    }
   ],
   "source": [
    "print(''' area under the roc curve ''')\n",
    "roc_auc_score(df_predicted_prob_test_stage1['train_target_stage_1'],df_predicted_prob_test_stage1['train_prob_stage_1'])\n"
   ]
  },
  {
   "cell_type": "markdown",
   "id": "89364a17-b6f4-49d6-9d7a-dacca30f700a",
   "metadata": {},
   "source": [
    "> * area under the ROC curve is good but it is not satisfactory. a better model with fine threshold value should be found.\n",
    "> * the proportion of predicted borrowers who recovery rate is more than 0, should be more than proportion of predicted  borrowers with recovery rate equal to 0. Because even if classification model is unable to classify some of the account correctly in first stage and most of the borrowers classified as 1 which denotes that their recovery rate is more than 0 but in reality they are not , then in next stage linear regression model may predict the actual recovery rate for them. "
   ]
  },
  {
   "cell_type": "markdown",
   "id": "b4cb4a54-2ca0-420c-ab52-ca4cf684178f",
   "metadata": {},
   "source": [
    "# saving model"
   ]
  },
  {
   "cell_type": "markdown",
   "id": "0199da0a-3e96-4690-9367-f3715b1270fd",
   "metadata": {},
   "source": [
    "# estimating linear regression model."
   ]
  },
  {
   "cell_type": "code",
   "execution_count": 45,
   "id": "50b2593e-81b8-44c7-b672-03cbba569b57",
   "metadata": {},
   "outputs": [],
   "source": [
    "lgd_stage2_train_inputs=loan_data_default[loan_data_default['recovery_rate_0_1']==1]"
   ]
  },
  {
   "cell_type": "code",
   "execution_count": 46,
   "id": "33d84b72-c81b-481a-b080-b3693d349156",
   "metadata": {},
   "outputs": [],
   "source": [
    "lgd_data_stage_2=loan_data_default[loan_data_default['recovery_rate_0_1']==1]"
   ]
  },
  {
   "cell_type": "code",
   "execution_count": 47,
   "id": "0a074c7d-d786-40ad-999d-506ce0d33e06",
   "metadata": {},
   "outputs": [
    {
     "data": {
      "text/plain": [
       "(24371, 212)"
      ]
     },
     "execution_count": 47,
     "metadata": {},
     "output_type": "execute_result"
    }
   ],
   "source": [
    "lgd_data_stage_2.shape"
   ]
  },
  {
   "cell_type": "code",
   "execution_count": 48,
   "id": "44ff44bb-f512-49b0-954a-3707caa9fd0f",
   "metadata": {},
   "outputs": [],
   "source": [
    "lgd_inputs_stage2_train,lgd_inputs_stage2_test,lgd_target_stage2_train,lgd_target_stage2_test=train_test_split(lgd_data_stage_2.drop(['recovery_rate','recovery_rate_0_1','CCF'],axis=1),lgd_data_stage_2['recovery_rate'],test_size=0.2,random_state=42)"
   ]
  },
  {
   "cell_type": "code",
   "execution_count": 49,
   "id": "1e36f542-2c89-4e1f-ac30-834830bc954f",
   "metadata": {},
   "outputs": [
    {
     "data": {
      "text/plain": [
       "((19496, 209), (4875, 209), (19496,), (4875,))"
      ]
     },
     "execution_count": 49,
     "metadata": {},
     "output_type": "execute_result"
    }
   ],
   "source": [
    "lgd_inputs_stage2_train.shape,lgd_inputs_stage2_test.shape,lgd_target_stage2_train.shape,lgd_target_stage2_test.shape"
   ]
  },
  {
   "cell_type": "code",
   "execution_count": 50,
   "id": "c3f5d05c-74bd-4311-8e12-acb334e37e0f",
   "metadata": {},
   "outputs": [],
   "source": [
    "lgd_inputs_stage2_train=lgd_inputs_stage2_train[feature_all].drop(columns=feature_reference)"
   ]
  },
  {
   "cell_type": "code",
   "execution_count": 51,
   "id": "918f35f4-81d9-4d0e-a228-7c054e4d049e",
   "metadata": {},
   "outputs": [
    {
     "data": {
      "text/html": [
       "<style>#sk-container-id-2 {color: black;}#sk-container-id-2 pre{padding: 0;}#sk-container-id-2 div.sk-toggleable {background-color: white;}#sk-container-id-2 label.sk-toggleable__label {cursor: pointer;display: block;width: 100%;margin-bottom: 0;padding: 0.3em;box-sizing: border-box;text-align: center;}#sk-container-id-2 label.sk-toggleable__label-arrow:before {content: \"▸\";float: left;margin-right: 0.25em;color: #696969;}#sk-container-id-2 label.sk-toggleable__label-arrow:hover:before {color: black;}#sk-container-id-2 div.sk-estimator:hover label.sk-toggleable__label-arrow:before {color: black;}#sk-container-id-2 div.sk-toggleable__content {max-height: 0;max-width: 0;overflow: hidden;text-align: left;background-color: #f0f8ff;}#sk-container-id-2 div.sk-toggleable__content pre {margin: 0.2em;color: black;border-radius: 0.25em;background-color: #f0f8ff;}#sk-container-id-2 input.sk-toggleable__control:checked~div.sk-toggleable__content {max-height: 200px;max-width: 100%;overflow: auto;}#sk-container-id-2 input.sk-toggleable__control:checked~label.sk-toggleable__label-arrow:before {content: \"▾\";}#sk-container-id-2 div.sk-estimator input.sk-toggleable__control:checked~label.sk-toggleable__label {background-color: #d4ebff;}#sk-container-id-2 div.sk-label input.sk-toggleable__control:checked~label.sk-toggleable__label {background-color: #d4ebff;}#sk-container-id-2 input.sk-hidden--visually {border: 0;clip: rect(1px 1px 1px 1px);clip: rect(1px, 1px, 1px, 1px);height: 1px;margin: -1px;overflow: hidden;padding: 0;position: absolute;width: 1px;}#sk-container-id-2 div.sk-estimator {font-family: monospace;background-color: #f0f8ff;border: 1px dotted black;border-radius: 0.25em;box-sizing: border-box;margin-bottom: 0.5em;}#sk-container-id-2 div.sk-estimator:hover {background-color: #d4ebff;}#sk-container-id-2 div.sk-parallel-item::after {content: \"\";width: 100%;border-bottom: 1px solid gray;flex-grow: 1;}#sk-container-id-2 div.sk-label:hover label.sk-toggleable__label {background-color: #d4ebff;}#sk-container-id-2 div.sk-serial::before {content: \"\";position: absolute;border-left: 1px solid gray;box-sizing: border-box;top: 0;bottom: 0;left: 50%;z-index: 0;}#sk-container-id-2 div.sk-serial {display: flex;flex-direction: column;align-items: center;background-color: white;padding-right: 0.2em;padding-left: 0.2em;position: relative;}#sk-container-id-2 div.sk-item {position: relative;z-index: 1;}#sk-container-id-2 div.sk-parallel {display: flex;align-items: stretch;justify-content: center;background-color: white;position: relative;}#sk-container-id-2 div.sk-item::before, #sk-container-id-2 div.sk-parallel-item::before {content: \"\";position: absolute;border-left: 1px solid gray;box-sizing: border-box;top: 0;bottom: 0;left: 50%;z-index: -1;}#sk-container-id-2 div.sk-parallel-item {display: flex;flex-direction: column;z-index: 1;position: relative;background-color: white;}#sk-container-id-2 div.sk-parallel-item:first-child::after {align-self: flex-end;width: 50%;}#sk-container-id-2 div.sk-parallel-item:last-child::after {align-self: flex-start;width: 50%;}#sk-container-id-2 div.sk-parallel-item:only-child::after {width: 0;}#sk-container-id-2 div.sk-dashed-wrapped {border: 1px dashed gray;margin: 0 0.4em 0.5em 0.4em;box-sizing: border-box;padding-bottom: 0.4em;background-color: white;}#sk-container-id-2 div.sk-label label {font-family: monospace;font-weight: bold;display: inline-block;line-height: 1.2em;}#sk-container-id-2 div.sk-label-container {text-align: center;}#sk-container-id-2 div.sk-container {/* jupyter's `normalize.less` sets `[hidden] { display: none; }` but bootstrap.min.css set `[hidden] { display: none !important; }` so we also need the `!important` here to be able to override the default hidden behavior on the sphinx rendered scikit-learn.org. See: https://github.com/scikit-learn/scikit-learn/issues/21755 */display: inline-block !important;position: relative;}#sk-container-id-2 div.sk-text-repr-fallback {display: none;}</style><div id=\"sk-container-id-2\" class=\"sk-top-container\"><div class=\"sk-text-repr-fallback\"><pre>LinearRegression()</pre><b>In a Jupyter environment, please rerun this cell to show the HTML representation or trust the notebook. <br />On GitHub, the HTML representation is unable to render, please try loading this page with nbviewer.org.</b></div><div class=\"sk-container\" hidden><div class=\"sk-item\"><div class=\"sk-estimator sk-toggleable\"><input class=\"sk-toggleable__control sk-hidden--visually\" id=\"sk-estimator-id-2\" type=\"checkbox\" checked><label for=\"sk-estimator-id-2\" class=\"sk-toggleable__label sk-toggleable__label-arrow\">LinearRegression</label><div class=\"sk-toggleable__content\"><pre>LinearRegression()</pre></div></div></div></div></div>"
      ],
      "text/plain": [
       "LinearRegression()"
      ]
     },
     "execution_count": 51,
     "metadata": {},
     "output_type": "execute_result"
    }
   ],
   "source": [
    "linearReg_stage2_model=LinearRegression()\n",
    "linearReg_stage2_model.fit(lgd_inputs_stage2_train,lgd_target_stage2_train)"
   ]
  },
  {
   "cell_type": "markdown",
   "id": "c4e33fad-ac99-4350-addc-eee836837ba5",
   "metadata": {},
   "source": [
    "# testing the model"
   ]
  },
  {
   "cell_type": "code",
   "execution_count": 52,
   "id": "3e70f916-4d58-419f-a62b-67ae35893dcf",
   "metadata": {},
   "outputs": [],
   "source": [
    "lgd_inputs_stage2_test=lgd_inputs_stage2_test[feature_all].drop(columns=feature_reference)"
   ]
  },
  {
   "cell_type": "code",
   "execution_count": 53,
   "id": "6b5524cf-4591-491e-bb0a-de0ebd9e46e2",
   "metadata": {},
   "outputs": [],
   "source": [
    "lgd_predict_stage2_test = linearReg_stage2_model.predict(lgd_inputs_stage2_test)"
   ]
  },
  {
   "cell_type": "code",
   "execution_count": 54,
   "id": "5d0fab92-854d-4d8d-9325-dbf5d0fd48d6",
   "metadata": {
    "scrolled": true
   },
   "outputs": [],
   "source": [
    "lgd_target_stage2_test_temp=lgd_target_stage2_test.copy()"
   ]
  },
  {
   "cell_type": "code",
   "execution_count": 55,
   "id": "53c2f5b2-7c37-423e-b6a1-a32b37690ace",
   "metadata": {},
   "outputs": [
    {
     "data": {
      "text/html": [
       "<div>\n",
       "<style scoped>\n",
       "    .dataframe tbody tr th:only-of-type {\n",
       "        vertical-align: middle;\n",
       "    }\n",
       "\n",
       "    .dataframe tbody tr th {\n",
       "        vertical-align: top;\n",
       "    }\n",
       "\n",
       "    .dataframe thead th {\n",
       "        text-align: right;\n",
       "    }\n",
       "</style>\n",
       "<table border=\"1\" class=\"dataframe\">\n",
       "  <thead>\n",
       "    <tr style=\"text-align: right;\">\n",
       "      <th></th>\n",
       "      <th>lgd_target_stage2_test</th>\n",
       "      <th>lgd_predict_stage2_test</th>\n",
       "    </tr>\n",
       "  </thead>\n",
       "  <tbody>\n",
       "    <tr>\n",
       "      <th>lgd_target_stage2_test</th>\n",
       "      <td>1.000000</td>\n",
       "      <td>0.307749</td>\n",
       "    </tr>\n",
       "    <tr>\n",
       "      <th>lgd_predict_stage2_test</th>\n",
       "      <td>0.307749</td>\n",
       "      <td>1.000000</td>\n",
       "    </tr>\n",
       "  </tbody>\n",
       "</table>\n",
       "</div>"
      ],
      "text/plain": [
       "                         lgd_target_stage2_test  lgd_predict_stage2_test\n",
       "lgd_target_stage2_test                 1.000000                 0.307749\n",
       "lgd_predict_stage2_test                0.307749                 1.000000"
      ]
     },
     "execution_count": 55,
     "metadata": {},
     "output_type": "execute_result"
    }
   ],
   "source": [
    "df_pred_and_target=pd.DataFrame({'lgd_target_stage2_test':lgd_target_stage2_test_temp.values,\n",
    "                'lgd_predict_stage2_test':lgd_predict_stage2_test\n",
    "             })\n",
    "df_pred_and_target.corr()"
   ]
  },
  {
   "cell_type": "code",
   "execution_count": 56,
   "id": "97072fda-3545-4dc1-8ab1-239c8669a275",
   "metadata": {},
   "outputs": [],
   "source": [
    "df_pred_and_target['diff']=df_pred_and_target['lgd_target_stage2_test']-df_pred_and_target['lgd_predict_stage2_test']"
   ]
  },
  {
   "cell_type": "code",
   "execution_count": 57,
   "id": "64528968-c4cd-439b-808a-079871802031",
   "metadata": {},
   "outputs": [
    {
     "data": {
      "text/plain": [
       "' from the below histogram of residual error it is observed that the distribution is normal\\nand frequency of occurence of residual error are maximum around zero so it.\\nSo we can say that the model has learn all pattern perfectly.'"
      ]
     },
     "execution_count": 57,
     "metadata": {},
     "output_type": "execute_result"
    }
   ],
   "source": [
    "''' from the below histogram of residual error it is observed that the distribution is normal\n",
    "and frequency of occurence of residual error are maximum around zero so it.\n",
    "So we can say that the model has learn all pattern perfectly.'''"
   ]
  },
  {
   "cell_type": "code",
   "execution_count": 58,
   "id": "44cc18b1-8588-4532-9cdb-55ad0b183b79",
   "metadata": {},
   "outputs": [
    {
     "data": {
      "image/png": "[encoded data removed]"
     },
     "metadata": {},
     "output_type": "display_data"
    }
   ],
   "source": [
    "fig=px.histogram(df_pred_and_target,x='diff')\n",
    "fig.update_layout(title='Distribution of residual error between predict and ground target recovery rate',\n",
    "                    xaxis=dict(title='residual error'),\n",
    "                  yaxis=dict(title='frequencey of occuerences')\n",
    "                 )\n",
    "fig.show('png')"
   ]
  },
  {
   "cell_type": "markdown",
   "id": "4bdf52e9-aa42-45cd-8077-c270d7f6e411",
   "metadata": {},
   "source": [
    "# combining stage1 and stage 2"
   ]
  },
  {
   "cell_type": "code",
   "execution_count": 59,
   "id": "1817309e-a1d3-4270-b58c-3aa9ab7131cc",
   "metadata": {},
   "outputs": [
    {
     "data": {
      "text/plain": [
       "(8648,)"
      ]
     },
     "execution_count": 59,
     "metadata": {},
     "output_type": "execute_result"
    }
   ],
   "source": [
    "# this series contain prediction of logistic regression model on test data \n",
    "# this prediction is performed on all rows of the test data.\n",
    "lgd_prediction_stage1_test=df_predicted_prob_test_stage1['predicted_cls']\n",
    "lgd_prediction_stage1_test.shape"
   ]
  },
  {
   "cell_type": "code",
   "execution_count": 60,
   "id": "00e92fc4-d95b-4e4a-88fe-1ae1bb8772fe",
   "metadata": {},
   "outputs": [
    {
     "data": {
      "text/plain": [
       "(8648,)"
      ]
     },
     "execution_count": 60,
     "metadata": {},
     "output_type": "execute_result"
    }
   ],
   "source": [
    "# prediction of expected recovery rate of test data by linear regression model is in this series. \n",
    "lgd_prediction_stage2_test=linearReg_stage2_model.predict(lgd_inputs_stage_1_test)\n",
    "lgd_prediction_stage2_test.shape"
   ]
  },
  {
   "cell_type": "code",
   "execution_count": 61,
   "id": "9353340a-3edf-4444-8f77-eb949970168b",
   "metadata": {
    "scrolled": true
   },
   "outputs": [
    {
     "data": {
      "text/html": [
       "<div>\n",
       "<style scoped>\n",
       "    .dataframe tbody tr th:only-of-type {\n",
       "        vertical-align: middle;\n",
       "    }\n",
       "\n",
       "    .dataframe tbody tr th {\n",
       "        vertical-align: top;\n",
       "    }\n",
       "\n",
       "    .dataframe thead th {\n",
       "        text-align: right;\n",
       "    }\n",
       "</style>\n",
       "<table border=\"1\" class=\"dataframe\">\n",
       "  <thead>\n",
       "    <tr style=\"text-align: right;\">\n",
       "      <th></th>\n",
       "      <th>predic_recovery_rate</th>\n",
       "    </tr>\n",
       "  </thead>\n",
       "  <tbody>\n",
       "    <tr>\n",
       "      <th>count</th>\n",
       "      <td>8648.000000</td>\n",
       "    </tr>\n",
       "    <tr>\n",
       "      <th>mean</th>\n",
       "      <td>0.076244</td>\n",
       "    </tr>\n",
       "    <tr>\n",
       "      <th>std</th>\n",
       "      <td>0.051805</td>\n",
       "    </tr>\n",
       "    <tr>\n",
       "      <th>min</th>\n",
       "      <td>-0.006913</td>\n",
       "    </tr>\n",
       "    <tr>\n",
       "      <th>25%</th>\n",
       "      <td>0.000000</td>\n",
       "    </tr>\n",
       "    <tr>\n",
       "      <th>50%</th>\n",
       "      <td>0.093526</td>\n",
       "    </tr>\n",
       "    <tr>\n",
       "      <th>75%</th>\n",
       "      <td>0.116560</td>\n",
       "    </tr>\n",
       "    <tr>\n",
       "      <th>max</th>\n",
       "      <td>0.236368</td>\n",
       "    </tr>\n",
       "  </tbody>\n",
       "</table>\n",
       "</div>"
      ],
      "text/plain": [
       "       predic_recovery_rate\n",
       "count           8648.000000\n",
       "mean               0.076244\n",
       "std                0.051805\n",
       "min               -0.006913\n",
       "25%                0.000000\n",
       "50%                0.093526\n",
       "75%                0.116560\n",
       "max                0.236368"
      ]
     },
     "execution_count": 61,
     "metadata": {},
     "output_type": "execute_result"
    }
   ],
   "source": [
    "# final answer would be mulitpication of corresponding elements \n",
    "final_recovery_rate=pd.DataFrame({'predic_recovery_rate':np.multiply(lgd_prediction_stage1_test,lgd_prediction_stage2_test)})\n",
    "final_recovery_rate.describe()"
   ]
  },
  {
   "cell_type": "code",
   "execution_count": 62,
   "id": "56a89502-bfd8-4349-8692-d230086bc992",
   "metadata": {},
   "outputs": [],
   "source": [
    "final_recovery_rate['predic_recovery_rate']=np.where(final_recovery_rate['predic_recovery_rate']<0,0,final_recovery_rate['predic_recovery_rate'])\n",
    "final_recovery_rate['predic_recovery_rate']=np.where(final_recovery_rate['predic_recovery_rate']>1,1,final_recovery_rate['predic_recovery_rate'])\n"
   ]
  },
  {
   "cell_type": "code",
   "execution_count": 63,
   "id": "d0917645-0138-4088-8dcf-44e5a993a49d",
   "metadata": {},
   "outputs": [
    {
     "data": {
      "text/html": [
       "<div>\n",
       "<style scoped>\n",
       "    .dataframe tbody tr th:only-of-type {\n",
       "        vertical-align: middle;\n",
       "    }\n",
       "\n",
       "    .dataframe tbody tr th {\n",
       "        vertical-align: top;\n",
       "    }\n",
       "\n",
       "    .dataframe thead th {\n",
       "        text-align: right;\n",
       "    }\n",
       "</style>\n",
       "<table border=\"1\" class=\"dataframe\">\n",
       "  <thead>\n",
       "    <tr style=\"text-align: right;\">\n",
       "      <th></th>\n",
       "      <th>predic_recovery_rate</th>\n",
       "    </tr>\n",
       "  </thead>\n",
       "  <tbody>\n",
       "    <tr>\n",
       "      <th>count</th>\n",
       "      <td>8648.000000</td>\n",
       "    </tr>\n",
       "    <tr>\n",
       "      <th>mean</th>\n",
       "      <td>0.076245</td>\n",
       "    </tr>\n",
       "    <tr>\n",
       "      <th>std</th>\n",
       "      <td>0.051803</td>\n",
       "    </tr>\n",
       "    <tr>\n",
       "      <th>min</th>\n",
       "      <td>0.000000</td>\n",
       "    </tr>\n",
       "    <tr>\n",
       "      <th>25%</th>\n",
       "      <td>0.000000</td>\n",
       "    </tr>\n",
       "    <tr>\n",
       "      <th>50%</th>\n",
       "      <td>0.093526</td>\n",
       "    </tr>\n",
       "    <tr>\n",
       "      <th>75%</th>\n",
       "      <td>0.116560</td>\n",
       "    </tr>\n",
       "    <tr>\n",
       "      <th>max</th>\n",
       "      <td>0.236368</td>\n",
       "    </tr>\n",
       "  </tbody>\n",
       "</table>\n",
       "</div>"
      ],
      "text/plain": [
       "       predic_recovery_rate\n",
       "count           8648.000000\n",
       "mean               0.076245\n",
       "std                0.051803\n",
       "min                0.000000\n",
       "25%                0.000000\n",
       "50%                0.093526\n",
       "75%                0.116560\n",
       "max                0.236368"
      ]
     },
     "execution_count": 63,
     "metadata": {},
     "output_type": "execute_result"
    }
   ],
   "source": [
    "final_recovery_rate.describe()"
   ]
  },
  {
   "cell_type": "code",
   "execution_count": 64,
   "id": "418b365a-8e68-44a2-aca5-4ec51cf5e802",
   "metadata": {},
   "outputs": [],
   "source": [
    "pickle.dump(model_logistic_stage_1,open('model_logistic_stage_1_LGD.sav','wb'))\n",
    "pickle.dump(linearReg_stage2_model,open('linearRegModel_stage2_LGD.sav','wb'))\n"
   ]
  },
  {
   "cell_type": "markdown",
   "id": "4a2acae5-1c1f-4b9a-8b3b-66993902eb7f",
   "metadata": {},
   "source": [
    "# developing EAD MODEL"
   ]
  },
  {
   "cell_type": "code",
   "execution_count": 65,
   "id": "e3794859-425c-433b-b351-4e01e2dfb129",
   "metadata": {},
   "outputs": [
    {
     "data": {
      "image/png": "[encoded data removed]"
     },
     "metadata": {},
     "output_type": "display_data"
    }
   ],
   "source": [
    "fig=px.histogram(loan_data_default,x='CCF')\n",
    "fig.update_layout(title='distribution of credit conversion factor',\n",
    "                 xaxis=dict(title='credit conversion factor'),\n",
    "                  yaxis=dict(title='frequency of occurences')\n",
    "                 )\n",
    "fig.show('png')"
   ]
  },
  {
   "cell_type": "code",
   "execution_count": 66,
   "id": "963f204d-1e33-4db4-9e56-024463d93154",
   "metadata": {},
   "outputs": [
    {
     "data": {
      "text/plain": [
       "((34588, 209), (8648, 209), (34588,), (8648,))"
      ]
     },
     "execution_count": 66,
     "metadata": {},
     "output_type": "execute_result"
    }
   ],
   "source": [
    "ead_inputs_train,ead_inputs_test,ead_target_train, ead_target_test=train_test_split(loan_data_default.drop(columns=['recovery_rate','CCF','recovery_rate_0_1'],axis=1),loan_data_default['CCF'],test_size=0.2,random_state=42)\n",
    "ead_inputs_train.shape,ead_inputs_test.shape,ead_target_train.shape,ead_target_test.shape"
   ]
  },
  {
   "cell_type": "code",
   "execution_count": 67,
   "id": "a12c9b7d-d5ff-458e-9a43-1abd1da1316e",
   "metadata": {},
   "outputs": [],
   "source": [
    "ead_inputs_train=ead_inputs_train[feature_all].drop(columns=feature_reference)"
   ]
  },
  {
   "cell_type": "code",
   "execution_count": 68,
   "id": "52815943-394c-4493-913f-aaafed499f73",
   "metadata": {},
   "outputs": [
    {
     "data": {
      "text/html": [
       "<style>#sk-container-id-3 {color: black;}#sk-container-id-3 pre{padding: 0;}#sk-container-id-3 div.sk-toggleable {background-color: white;}#sk-container-id-3 label.sk-toggleable__label {cursor: pointer;display: block;width: 100%;margin-bottom: 0;padding: 0.3em;box-sizing: border-box;text-align: center;}#sk-container-id-3 label.sk-toggleable__label-arrow:before {content: \"▸\";float: left;margin-right: 0.25em;color: #696969;}#sk-container-id-3 label.sk-toggleable__label-arrow:hover:before {color: black;}#sk-container-id-3 div.sk-estimator:hover label.sk-toggleable__label-arrow:before {color: black;}#sk-container-id-3 div.sk-toggleable__content {max-height: 0;max-width: 0;overflow: hidden;text-align: left;background-color: #f0f8ff;}#sk-container-id-3 div.sk-toggleable__content pre {margin: 0.2em;color: black;border-radius: 0.25em;background-color: #f0f8ff;}#sk-container-id-3 input.sk-toggleable__control:checked~div.sk-toggleable__content {max-height: 200px;max-width: 100%;overflow: auto;}#sk-container-id-3 input.sk-toggleable__control:checked~label.sk-toggleable__label-arrow:before {content: \"▾\";}#sk-container-id-3 div.sk-estimator input.sk-toggleable__control:checked~label.sk-toggleable__label {background-color: #d4ebff;}#sk-container-id-3 div.sk-label input.sk-toggleable__control:checked~label.sk-toggleable__label {background-color: #d4ebff;}#sk-container-id-3 input.sk-hidden--visually {border: 0;clip: rect(1px 1px 1px 1px);clip: rect(1px, 1px, 1px, 1px);height: 1px;margin: -1px;overflow: hidden;padding: 0;position: absolute;width: 1px;}#sk-container-id-3 div.sk-estimator {font-family: monospace;background-color: #f0f8ff;border: 1px dotted black;border-radius: 0.25em;box-sizing: border-box;margin-bottom: 0.5em;}#sk-container-id-3 div.sk-estimator:hover {background-color: #d4ebff;}#sk-container-id-3 div.sk-parallel-item::after {content: \"\";width: 100%;border-bottom: 1px solid gray;flex-grow: 1;}#sk-container-id-3 div.sk-label:hover label.sk-toggleable__label {background-color: #d4ebff;}#sk-container-id-3 div.sk-serial::before {content: \"\";position: absolute;border-left: 1px solid gray;box-sizing: border-box;top: 0;bottom: 0;left: 50%;z-index: 0;}#sk-container-id-3 div.sk-serial {display: flex;flex-direction: column;align-items: center;background-color: white;padding-right: 0.2em;padding-left: 0.2em;position: relative;}#sk-container-id-3 div.sk-item {position: relative;z-index: 1;}#sk-container-id-3 div.sk-parallel {display: flex;align-items: stretch;justify-content: center;background-color: white;position: relative;}#sk-container-id-3 div.sk-item::before, #sk-container-id-3 div.sk-parallel-item::before {content: \"\";position: absolute;border-left: 1px solid gray;box-sizing: border-box;top: 0;bottom: 0;left: 50%;z-index: -1;}#sk-container-id-3 div.sk-parallel-item {display: flex;flex-direction: column;z-index: 1;position: relative;background-color: white;}#sk-container-id-3 div.sk-parallel-item:first-child::after {align-self: flex-end;width: 50%;}#sk-container-id-3 div.sk-parallel-item:last-child::after {align-self: flex-start;width: 50%;}#sk-container-id-3 div.sk-parallel-item:only-child::after {width: 0;}#sk-container-id-3 div.sk-dashed-wrapped {border: 1px dashed gray;margin: 0 0.4em 0.5em 0.4em;box-sizing: border-box;padding-bottom: 0.4em;background-color: white;}#sk-container-id-3 div.sk-label label {font-family: monospace;font-weight: bold;display: inline-block;line-height: 1.2em;}#sk-container-id-3 div.sk-label-container {text-align: center;}#sk-container-id-3 div.sk-container {/* jupyter's `normalize.less` sets `[hidden] { display: none; }` but bootstrap.min.css set `[hidden] { display: none !important; }` so we also need the `!important` here to be able to override the default hidden behavior on the sphinx rendered scikit-learn.org. See: https://github.com/scikit-learn/scikit-learn/issues/21755 */display: inline-block !important;position: relative;}#sk-container-id-3 div.sk-text-repr-fallback {display: none;}</style><div id=\"sk-container-id-3\" class=\"sk-top-container\"><div class=\"sk-text-repr-fallback\"><pre>LinearRegression()</pre><b>In a Jupyter environment, please rerun this cell to show the HTML representation or trust the notebook. <br />On GitHub, the HTML representation is unable to render, please try loading this page with nbviewer.org.</b></div><div class=\"sk-container\" hidden><div class=\"sk-item\"><div class=\"sk-estimator sk-toggleable\"><input class=\"sk-toggleable__control sk-hidden--visually\" id=\"sk-estimator-id-3\" type=\"checkbox\" checked><label for=\"sk-estimator-id-3\" class=\"sk-toggleable__label sk-toggleable__label-arrow\">LinearRegression</label><div class=\"sk-toggleable__content\"><pre>LinearRegression()</pre></div></div></div></div></div>"
      ],
      "text/plain": [
       "LinearRegression()"
      ]
     },
     "execution_count": 68,
     "metadata": {},
     "output_type": "execute_result"
    }
   ],
   "source": [
    "model_ead_LinearReg=LinearRegression()\n",
    "model_ead_LinearReg.fit(ead_inputs_train,ead_target_train)"
   ]
  },
  {
   "cell_type": "markdown",
   "id": "b2c56587-5604-42d8-a4c0-6abd99458944",
   "metadata": {},
   "source": [
    "# testing the linear regression model on test data"
   ]
  },
  {
   "cell_type": "code",
   "execution_count": 69,
   "id": "dbb9ce4d-ec02-4559-89db-d2d45df50b7d",
   "metadata": {},
   "outputs": [],
   "source": [
    "ead_inputs_test=ead_inputs_test[feature_all].drop(columns=feature_reference)"
   ]
  },
  {
   "cell_type": "code",
   "execution_count": 70,
   "id": "aac83e36-c015-4549-b493-5f6bf5cb6819",
   "metadata": {},
   "outputs": [],
   "source": [
    "ead_predict_test= model_ead_LinearReg.predict(ead_inputs_test)\n"
   ]
  },
  {
   "cell_type": "code",
   "execution_count": 71,
   "id": "04dfa404-f1b3-4456-9594-ce18ff2407f0",
   "metadata": {},
   "outputs": [
    {
     "data": {
      "text/html": [
       "<div>\n",
       "<style scoped>\n",
       "    .dataframe tbody tr th:only-of-type {\n",
       "        vertical-align: middle;\n",
       "    }\n",
       "\n",
       "    .dataframe tbody tr th {\n",
       "        vertical-align: top;\n",
       "    }\n",
       "\n",
       "    .dataframe thead th {\n",
       "        text-align: right;\n",
       "    }\n",
       "</style>\n",
       "<table border=\"1\" class=\"dataframe\">\n",
       "  <thead>\n",
       "    <tr style=\"text-align: right;\">\n",
       "      <th></th>\n",
       "      <th>actualCCF</th>\n",
       "      <th>predictCCF</th>\n",
       "    </tr>\n",
       "  </thead>\n",
       "  <tbody>\n",
       "    <tr>\n",
       "      <th>count</th>\n",
       "      <td>8648.000000</td>\n",
       "      <td>8648.000000</td>\n",
       "    </tr>\n",
       "    <tr>\n",
       "      <th>mean</th>\n",
       "      <td>0.733973</td>\n",
       "      <td>0.736011</td>\n",
       "    </tr>\n",
       "    <tr>\n",
       "      <th>std</th>\n",
       "      <td>0.201629</td>\n",
       "      <td>0.105199</td>\n",
       "    </tr>\n",
       "    <tr>\n",
       "      <th>min</th>\n",
       "      <td>0.011554</td>\n",
       "      <td>0.384798</td>\n",
       "    </tr>\n",
       "    <tr>\n",
       "      <th>25%</th>\n",
       "      <td>0.629341</td>\n",
       "      <td>0.661581</td>\n",
       "    </tr>\n",
       "    <tr>\n",
       "      <th>50%</th>\n",
       "      <td>0.789212</td>\n",
       "      <td>0.731767</td>\n",
       "    </tr>\n",
       "    <tr>\n",
       "      <th>75%</th>\n",
       "      <td>0.886812</td>\n",
       "      <td>0.810523</td>\n",
       "    </tr>\n",
       "    <tr>\n",
       "      <th>max</th>\n",
       "      <td>1.000000</td>\n",
       "      <td>1.161196</td>\n",
       "    </tr>\n",
       "  </tbody>\n",
       "</table>\n",
       "</div>"
      ],
      "text/plain": [
       "         actualCCF   predictCCF\n",
       "count  8648.000000  8648.000000\n",
       "mean      0.733973     0.736011\n",
       "std       0.201629     0.105199\n",
       "min       0.011554     0.384798\n",
       "25%       0.629341     0.661581\n",
       "50%       0.789212     0.731767\n",
       "75%       0.886812     0.810523\n",
       "max       1.000000     1.161196"
      ]
     },
     "execution_count": 71,
     "metadata": {},
     "output_type": "execute_result"
    }
   ],
   "source": [
    "CCF_predi_actual=pd.DataFrame({'actualCCF':ead_target_test,\n",
    "            'predictCCF':ead_predict_test\n",
    "             })\n",
    "CCF_predi_actual.describe()"
   ]
  },
  {
   "cell_type": "code",
   "execution_count": 72,
   "id": "89cd8dbd-e41b-4adc-b704-b66ae65f90fd",
   "metadata": {},
   "outputs": [],
   "source": [
    "CCF_predi_actual['predictCCF']=np.where(CCF_predi_actual['predictCCF']<0,0,CCF_predi_actual['predictCCF'])\n",
    "CCF_predi_actual['predictCCF']=np.where(CCF_predi_actual['predictCCF']>1,1,CCF_predi_actual['predictCCF'])\n"
   ]
  },
  {
   "cell_type": "code",
   "execution_count": 73,
   "id": "b97e13eb-dd51-4d8e-b605-ae420897255d",
   "metadata": {},
   "outputs": [
    {
     "data": {
      "text/html": [
       "<div>\n",
       "<style scoped>\n",
       "    .dataframe tbody tr th:only-of-type {\n",
       "        vertical-align: middle;\n",
       "    }\n",
       "\n",
       "    .dataframe tbody tr th {\n",
       "        vertical-align: top;\n",
       "    }\n",
       "\n",
       "    .dataframe thead th {\n",
       "        text-align: right;\n",
       "    }\n",
       "</style>\n",
       "<table border=\"1\" class=\"dataframe\">\n",
       "  <thead>\n",
       "    <tr style=\"text-align: right;\">\n",
       "      <th></th>\n",
       "      <th>actualCCF</th>\n",
       "      <th>predictCCF</th>\n",
       "    </tr>\n",
       "  </thead>\n",
       "  <tbody>\n",
       "    <tr>\n",
       "      <th>count</th>\n",
       "      <td>8648.000000</td>\n",
       "      <td>8648.000000</td>\n",
       "    </tr>\n",
       "    <tr>\n",
       "      <th>mean</th>\n",
       "      <td>0.733973</td>\n",
       "      <td>0.735990</td>\n",
       "    </tr>\n",
       "    <tr>\n",
       "      <th>std</th>\n",
       "      <td>0.201629</td>\n",
       "      <td>0.105132</td>\n",
       "    </tr>\n",
       "    <tr>\n",
       "      <th>min</th>\n",
       "      <td>0.011554</td>\n",
       "      <td>0.384798</td>\n",
       "    </tr>\n",
       "    <tr>\n",
       "      <th>25%</th>\n",
       "      <td>0.629341</td>\n",
       "      <td>0.661581</td>\n",
       "    </tr>\n",
       "    <tr>\n",
       "      <th>50%</th>\n",
       "      <td>0.789212</td>\n",
       "      <td>0.731767</td>\n",
       "    </tr>\n",
       "    <tr>\n",
       "      <th>75%</th>\n",
       "      <td>0.886812</td>\n",
       "      <td>0.810523</td>\n",
       "    </tr>\n",
       "    <tr>\n",
       "      <th>max</th>\n",
       "      <td>1.000000</td>\n",
       "      <td>1.000000</td>\n",
       "    </tr>\n",
       "  </tbody>\n",
       "</table>\n",
       "</div>"
      ],
      "text/plain": [
       "         actualCCF   predictCCF\n",
       "count  8648.000000  8648.000000\n",
       "mean      0.733973     0.735990\n",
       "std       0.201629     0.105132\n",
       "min       0.011554     0.384798\n",
       "25%       0.629341     0.661581\n",
       "50%       0.789212     0.731767\n",
       "75%       0.886812     0.810523\n",
       "max       1.000000     1.000000"
      ]
     },
     "execution_count": 73,
     "metadata": {},
     "output_type": "execute_result"
    }
   ],
   "source": [
    "CCF_predi_actual.describe()"
   ]
  },
  {
   "cell_type": "code",
   "execution_count": 74,
   "id": "ba1caf9e-30f5-4e02-b221-be54904ad8ad",
   "metadata": {},
   "outputs": [
    {
     "data": {
      "image/png": "[encoded data removed]"
     },
     "metadata": {},
     "output_type": "display_data"
    }
   ],
   "source": [
    "CCF_predi_actual['residual_Err']=CCF_predi_actual['actualCCF']-CCF_predi_actual['predictCCF']\n",
    "fig=px.histogram(CCF_predi_actual,x='residual_Err')\n",
    "fig.update_layout(title='destribution of residual error of prdicted credit conversion factor from actual Credit conversion factor',\n",
    "                 xaxis=dict(title='residual error(actual_CCF-predicted_CCF'))\n",
    "fig.show('png')"
   ]
  },
  {
   "cell_type": "markdown",
   "id": "a12a76eb-16fd-4634-be91-8caba308708a",
   "metadata": {},
   "source": [
    "> from the above distribution plot of residual error it is observed that it is a neal normal distribtuion most of the residual error concentrated on zero value. So we can conclude that the model has trained properly."
   ]
  },
  {
   "cell_type": "markdown",
   "id": "c374068c-c186-4b84-af12-1ed4c0b72fd0",
   "metadata": {},
   "source": [
    "# saving EAD model"
   ]
  },
  {
   "cell_type": "code",
   "execution_count": 75,
   "id": "a6d942a7-8801-459c-80dd-db9898f94a7b",
   "metadata": {},
   "outputs": [],
   "source": [
    "pickle.dump(model_ead_LinearReg,open('EAD_Model_linearReg.sav','wb'))"
   ]
  },
  {
   "cell_type": "code",
   "execution_count": null,
   "id": "b2c909e9-38cf-486a-a864-a33176b8f86a",
   "metadata": {},
   "outputs": [],
   "source": []
  }
 ],
 "metadata": {
  "kernelspec": {
   "display_name": "HPOmenChallenge",
   "language": "python",
   "name": "hpomenchallenge"
  },
  "language_info": {
   "codemirror_mode": {
    "name": "ipython",
    "version": 3
   },
   "file_extension": ".py",
   "mimetype": "text/x-python",
   "name": "python",
   "nbconvert_exporter": "python",
   "pygments_lexer": "ipython3",
   "version": "3.8.19"
  },
  "widgets": {
   "application/vnd.jupyter.widget-state+json": {
    "state": {},
    "version_major": 2,
    "version_minor": 0
   }
  }
 },
 "nbformat": 4,
 "nbformat_minor": 5
}
